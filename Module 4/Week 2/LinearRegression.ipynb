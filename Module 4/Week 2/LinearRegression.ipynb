{
 "cells": [
  {
   "cell_type": "markdown",
   "metadata": {},
   "source": [
    "## Bài tập 1 (Hiện thực giải thuật linear regression theo phương pháp vectorization):"
   ]
  },
  {
   "cell_type": "markdown",
   "metadata": {},
   "source": [
    "##### Library import"
   ]
  },
  {
   "cell_type": "code",
   "metadata": {
    "ExecuteTime": {
     "end_time": "2024-10-11T23:19:25.421161Z",
     "start_time": "2024-10-11T23:19:23.189491Z"
    }
   },
   "source": [
    "import numpy as np\n",
    "import matplotlib.pyplot as plt\n",
    "from numpy import genfromtxt"
   ],
   "outputs": [],
   "execution_count": 1
  },
  {
   "cell_type": "markdown",
   "metadata": {},
   "source": [
    "##### Data import and preprocessing by standardization"
   ]
  },
  {
   "cell_type": "code",
   "metadata": {
    "ExecuteTime": {
     "end_time": "2024-10-11T23:19:25.536271Z",
     "start_time": "2024-10-11T23:19:25.519284Z"
    }
   },
   "source": [
    "# dataset\n",
    "data = genfromtxt('advertising.csv', delimiter=',', skip_header=1)\n",
    "N = data.shape[0]\n",
    "X = data[:,:3]\n",
    "y = data[:,3:]\n",
    "\n",
    "# Normalize input data by using mean normalizaton\n",
    "def mean_normalization(X):\n",
    "    N = len(X)\n",
    "    maxi = np.max(X)\n",
    "    mini = np.min(X)\n",
    "    avg = np.mean(X)\n",
    "    X = (X - avg) / (maxi - mini)\n",
    "    X_b = np.c_[np.ones((N,1)), X]\n",
    "    return X_b, maxi, mini, avg\n",
    "\n",
    "X_b, maxi, mini, avg = mean_normalization(X)"
   ],
   "outputs": [],
   "execution_count": 2
  },
  {
   "cell_type": "code",
   "metadata": {
    "scrolled": true,
    "ExecuteTime": {
     "end_time": "2024-10-11T23:19:28.612141Z",
     "start_time": "2024-10-11T23:19:28.575363Z"
    }
   },
   "source": [
    "X_b"
   ],
   "outputs": [
    {
     "data": {
      "text/plain": [
       "array([[ 1.00000000e+00,  5.50426788e-01, -9.83586370e-02,\n",
       "         7.57928475e-03],\n",
       "       [ 1.00000000e+00, -7.57540486e-02, -9.32979082e-02,\n",
       "        -7.37297571e-02],\n",
       "       [ 1.00000000e+00, -1.67859312e-01, -7.10307018e-02,\n",
       "         7.91666667e-03],\n",
       "       [ 1.00000000e+00,  2.85244602e-01, -8.65502699e-02,\n",
       "        -2.85205803e-02],\n",
       "       [ 1.00000000e+00,  3.84097503e-01, -1.89451754e-01,\n",
       "        -2.88579622e-02],\n",
       "       [ 1.00000000e+00, -1.96536775e-01, -6.09092443e-02,\n",
       "         2.71474359e-02],\n",
       "       [ 1.00000000e+00, -3.18943995e-02, -1.15227733e-01,\n",
       "        -1.46604251e-01],\n",
       "       [ 1.00000000e+00,  1.79644062e-01, -1.59762146e-01,\n",
       "        -1.86752699e-01],\n",
       "       [ 1.00000000e+00, -1.96874157e-01, -2.18803981e-01,\n",
       "        -2.22515182e-01],\n",
       "       [ 1.00000000e+00,  4.48200067e-01, -2.17117072e-01,\n",
       "        -1.54364035e-01],\n",
       "       [ 1.00000000e+00, -2.87955466e-03, -2.06320850e-01,\n",
       "        -1.44242578e-01],\n",
       "       [ 1.00000000e+00,  4.98469973e-01, -1.44917341e-01,\n",
       "        -2.12393725e-01],\n",
       "       [ 1.00000000e+00, -1.45592105e-01, -1.07467949e-01,\n",
       "        -3.55431849e-03],\n",
       "       [ 1.00000000e+00,  1.03058367e-01, -2.00247976e-01,\n",
       "        -2.01597503e-01],\n",
       "       [ 1.00000000e+00,  4.62707490e-01, -1.14890351e-01,\n",
       "        -7.06933198e-02],\n",
       "       [ 1.00000000e+00,  4.33355263e-01, -6.49578273e-02,\n",
       "        -4.74139676e-02],\n",
       "       [ 1.00000000e+00,  2.85593792e-03, -1.02407220e-01,\n",
       "         1.58726383e-01],\n",
       "       [ 1.00000000e+00,  7.23503711e-01, -9.22857625e-02,\n",
       "        -3.76298920e-02],\n",
       "       [ 1.00000000e+00,  7.57928475e-03, -1.56725709e-01,\n",
       "        -1.64148111e-01],\n",
       "       [ 1.00000000e+00,  2.71074561e-01, -1.45254723e-01,\n",
       "        -1.61449055e-01],\n",
       "       [ 1.00000000e+00,  5.10953104e-01, -1.32434211e-01,\n",
       "        -4.57270580e-02],\n",
       "       [ 1.00000000e+00,  5.75055668e-01, -2.08682524e-01,\n",
       "        -1.46604251e-01],\n",
       "       [ 1.00000000e+00, -1.81354588e-01, -1.72245277e-01,\n",
       "        -5.85475709e-02],\n",
       "       [ 1.00000000e+00,  5.44353914e-01, -1.68871457e-01,\n",
       "        -1.37494939e-01],\n",
       "       [ 1.00000000e+00, -1.57000675e-02, -1.83378880e-01,\n",
       "        -1.64148111e-01],\n",
       "       [ 1.00000000e+00,  6.61088057e-01, -2.14080634e-01,\n",
       "        -1.60099528e-01],\n",
       "       [ 1.00000000e+00,  2.56229757e-01, -1.27036100e-01,\n",
       "        -1.83378880e-01],\n",
       "       [ 1.00000000e+00,  5.84164980e-01, -1.69546221e-01,\n",
       "        -1.48628543e-01],\n",
       "       [ 1.00000000e+00,  6.13517206e-01, -1.34458502e-01,\n",
       "        -1.48628543e-01],\n",
       "       [ 1.00000000e+00,  1.23026316e-02, -1.71907895e-01,\n",
       "        -8.82371795e-02],\n",
       "       [ 1.00000000e+00,  7.62302632e-01, -1.30409919e-01,\n",
       "        -8.01400135e-02],\n",
       "       [ 1.00000000e+00,  1.55015182e-01, -1.67184548e-01,\n",
       "        -9.56595816e-02],\n",
       "       [ 1.00000000e+00,  1.02046221e-01, -2.20828273e-01,\n",
       "        -1.24674426e-01],\n",
       "       [ 1.00000000e+00,  6.70197368e-01, -1.58412618e-01,\n",
       "        -2.24876856e-01],\n",
       "       [ 1.00000000e+00,  9.69854926e-02, -2.21165655e-01,\n",
       "        -2.00922740e-01],\n",
       "       [ 1.00000000e+00,  7.54880229e-01, -2.12056343e-01,\n",
       "        -1.97211538e-01],\n",
       "       [ 1.00000000e+00,  6.74583333e-01, -7.81157220e-02,\n",
       "        -2.09019906e-01],\n",
       "       [ 1.00000000e+00,  2.61352901e-02, -5.92223347e-02,\n",
       "        -7.17054656e-02],\n",
       "       [ 1.00000000e+00, -8.04773954e-02, -1.35808030e-01,\n",
       "        -1.07467949e-01],\n",
       "       [ 1.00000000e+00,  5.43341768e-01, -9.86960189e-02,\n",
       "        -1.17926788e-01],\n",
       "       [ 1.00000000e+00,  4.57309379e-01, -1.50652834e-01,\n",
       "        -1.19276316e-01],\n",
       "       [ 1.00000000e+00,  3.71276991e-01, -1.13203441e-01,\n",
       "        -9.53221997e-02],\n",
       "       [ 1.00000000e+00,  7.64664305e-01, -1.32434211e-01,\n",
       "        -2.19816127e-01],\n",
       "       [ 1.00000000e+00,  4.72154184e-01, -1.97548920e-01,\n",
       "        -1.36820175e-01],\n",
       "       [ 1.00000000e+00, -1.41206140e-01, -1.39181849e-01,\n",
       "        -7.98026316e-02],\n",
       "       [ 1.00000000e+00,  3.64866734e-01, -1.49978070e-01,\n",
       "        -1.19613698e-01],\n",
       "       [ 1.00000000e+00,  7.67425776e-02, -1.92488192e-01,\n",
       "        -1.05443657e-01],\n",
       "       [ 1.00000000e+00,  5.83490216e-01, -8.58755061e-02,\n",
       "        -1.63473347e-01],\n",
       "       [ 1.00000000e+00,  5.40642713e-01, -1.72582659e-01,\n",
       "        -5.75354251e-02],\n",
       "       [ 1.00000000e+00, -1.80499325e-04, -1.86415317e-01,\n",
       "        -1.01732456e-01],\n",
       "       [ 1.00000000e+00,  4.48200067e-01, -2.15430162e-01,\n",
       "        -1.09154858e-01],\n",
       "       [ 1.00000000e+00,  1.12842443e-01, -1.93500337e-01,\n",
       "        -2.13743252e-01],\n",
       "       [ 1.00000000e+00,  5.04205466e-01, -8.52007422e-02,\n",
       "        -9.22857625e-02],\n",
       "       [ 1.00000000e+00,  3.90170378e-01, -7.00185560e-02,\n",
       "        -2.78458165e-02],\n",
       "       [ 1.00000000e+00,  6.60413293e-01, -1.28723009e-01,\n",
       "        -1.72245277e-01],\n",
       "       [ 1.00000000e+00,  4.45163630e-01, -5.92223347e-02,\n",
       "        -2.34598516e-02],\n",
       "       [ 1.00000000e+00, -2.01260121e-01, -1.31084683e-01,\n",
       "        -8.62128880e-02],\n",
       "       [ 1.00000000e+00,  2.33625169e-01, -1.61111673e-01,\n",
       "        -1.69883603e-01],\n",
       "       [ 1.00000000e+00,  4.85312078e-01, -5.85475709e-02,\n",
       "        -9.86960189e-02],\n",
       "       [ 1.00000000e+00,  4.84974696e-01, -1.26361336e-01,\n",
       "        -1.94512483e-01],\n",
       "       [ 1.00000000e+00, -4.53896761e-02, -2.19141363e-01,\n",
       "        -1.53689271e-01],\n",
       "       [ 1.00000000e+00,  6.55689946e-01, -8.18269231e-02,\n",
       "        -4.13410931e-02],\n",
       "       [ 1.00000000e+00,  5.81465924e-01, -1.73594804e-01,\n",
       "        -1.33783738e-01],\n",
       "       [ 1.00000000e+00,  1.20602227e-01, -1.26023954e-01,\n",
       "        -1.97548920e-01],\n",
       "       [ 1.00000000e+00,  2.16418691e-01, -8.14895412e-02,\n",
       "        -1.28385628e-01],\n",
       "       [ 1.00000000e+00,  6.90452092e-03, -1.94512483e-01,\n",
       "        -2.22852564e-01],\n",
       "       [ 1.00000000e+00, -1.19613698e-01, -1.42893050e-01,\n",
       "        -2.18466599e-01],\n",
       "       [ 1.00000000e+00,  2.44084008e-01, -1.76968623e-01,\n",
       "        -1.91476046e-01],\n",
       "       [ 1.00000000e+00,  5.75055668e-01, -1.33108974e-01,\n",
       "        -1.88776991e-01],\n",
       "       [ 1.00000000e+00,  5.05554993e-01, -7.77783401e-02,\n",
       "        -1.34121120e-01],\n",
       "       [ 1.00000000e+00,  4.45838394e-01, -1.22650135e-01,\n",
       "        -9.53221997e-02],\n",
       "       [ 1.00000000e+00,  1.44556343e-01, -1.77643387e-01,\n",
       "        -1.18938934e-01],\n",
       "       [ 1.00000000e+00, -1.35470648e-01, -1.14552969e-01,\n",
       "        -1.60774291e-01],\n",
       "       [ 1.00000000e+00,  2.10683198e-01, -2.06658232e-01,\n",
       "        -1.20288462e-01],\n",
       "       [ 1.00000000e+00,  4.94084008e-01, -1.42893050e-01,\n",
       "        -1.81691970e-01],\n",
       "       [ 1.00000000e+00, -1.68871457e-01, -7.84531039e-02,\n",
       "         7.57304318e-02],\n",
       "       [ 1.00000000e+00, -1.33108974e-01, -2.20490891e-01,\n",
       "        -1.56050945e-01],\n",
       "       [ 1.00000000e+00,  1.80656208e-01, -1.29735155e-01,\n",
       "        -1.77980769e-01],\n",
       "       [ 1.00000000e+00, -2.07670378e-01, -1.25011808e-01,\n",
       "        -1.94175101e-01],\n",
       "       [ 1.00000000e+00,  1.65474022e-01, -1.99910594e-01,\n",
       "        -1.47953779e-01],\n",
       "       [ 1.00000000e+00,  3.18707827e-02, -1.35808030e-01,\n",
       "        -1.50652834e-01],\n",
       "       [ 1.00000000e+00,  5.83152834e-01, -2.12056343e-01,\n",
       "        -1.01395074e-01],\n",
       "       [ 1.00000000e+00,  2.81595816e-02, -1.57400472e-01,\n",
       "        -1.16239879e-01],\n",
       "       [ 1.00000000e+00,  4.88022942e-03, -7.57540486e-02,\n",
       "        -1.05781039e-01],\n",
       "       [ 1.00000000e+00,  4.94421390e-01, -8.08147773e-02,\n",
       "        -1.11853914e-01],\n",
       "       [ 1.00000000e+00,  4.25932861e-01, -1.63810729e-01,\n",
       "        -4.22908232e-03],\n",
       "       [ 1.00000000e+00,  3.15334008e-02, -1.33108974e-01,\n",
       "        -1.71907895e-01],\n",
       "       [ 1.00000000e+00,  1.47592780e-01, -8.89119433e-02,\n",
       "        -1.26636302e-02],\n",
       "       [ 1.00000000e+00,  7.20192308e-02, -1.39856613e-01,\n",
       "         2.17493252e-02],\n",
       "       [ 1.00000000e+00,  1.44556343e-01, -6.46204453e-02,\n",
       "        -5.24746964e-02],\n",
       "       [ 1.00000000e+00,  2.27214912e-01, -2.09357287e-01,\n",
       "        -1.94512483e-01],\n",
       "       [ 1.00000000e+00, -1.29397773e-01, -2.20828273e-01,\n",
       "        -1.14552969e-01],\n",
       "       [ 1.00000000e+00,  5.08591430e-01, -1.12866059e-01,\n",
       "        -2.68336707e-02],\n",
       "       [ 1.00000000e+00,  6.20602227e-01, -1.02744602e-01,\n",
       "         1.80381242e-02],\n",
       "       [ 1.00000000e+00,  1.36459177e-01, -1.78655533e-01,\n",
       "        -1.89114372e-01],\n",
       "       [ 1.00000000e+00,  3.25055668e-01, -1.19276316e-01,\n",
       "        -4.74139676e-02],\n",
       "       [ 1.00000000e+00,  4.40777665e-01, -2.14080634e-01,\n",
       "        -2.05983468e-01],\n",
       "       [ 1.00000000e+00,  3.97930162e-01, -1.55038799e-01,\n",
       "        -1.51664980e-01],\n",
       "       [ 1.00000000e+00,  7.51506410e-01, -8.31764507e-02,\n",
       "        -5.31494602e-02],\n",
       "       [ 1.00000000e+00,  2.30251350e-01, -8.52007422e-02,\n",
       "        -7.10307018e-02],\n",
       "       [ 1.00000000e+00,  5.24448381e-01, -2.11381579e-01,\n",
       "        -5.78728070e-02],\n",
       "       [ 1.00000000e+00,  7.74110999e-01, -1.03419366e-01,\n",
       "         1.14529352e-01],\n",
       "       [ 1.00000000e+00,  7.19455128e-01, -1.91813428e-01,\n",
       "        -1.53689271e-01],\n",
       "       [ 1.00000000e+00,  4.08051619e-01, -1.67859312e-01,\n",
       "        -1.65497638e-01],\n",
       "       [ 1.00000000e+00,  5.77754723e-01, -1.10167004e-01,\n",
       "        -2.08007760e-01],\n",
       "       [ 1.00000000e+00,  2.39360661e-01, -6.93437922e-02,\n",
       "        -2.68336707e-02],\n",
       "       [ 1.00000000e+00, -1.41543522e-01, -1.88776991e-01,\n",
       "        -1.25686572e-01],\n",
       "       [ 1.00000000e+00,  7.91042510e-02, -2.24876856e-01,\n",
       "        -1.47616397e-01],\n",
       "       [ 1.00000000e+00, -1.81691970e-01, -2.24539474e-01,\n",
       "        -1.39519231e-01],\n",
       "       [ 1.00000000e+00,  6.35784413e-01, -1.35133266e-01,\n",
       "        -2.07332996e-01],\n",
       "       [ 1.00000000e+00,  5.35919366e-01, -1.98223684e-01,\n",
       "        -3.52682186e-02],\n",
       "       [ 1.00000000e+00,  5.89563090e-01, -9.76838731e-02,\n",
       "        -1.47616397e-01],\n",
       "       [ 1.00000000e+00,  3.66891026e-01, -1.73932186e-01,\n",
       "        -2.17791835e-01],\n",
       "       [ 1.00000000e+00,  4.81263495e-01, -1.56388327e-01,\n",
       "        -1.89789136e-01],\n",
       "       [ 1.00000000e+00,  3.79436572e-02, -6.79942645e-02,\n",
       "        -1.09492240e-01],\n",
       "       [ 1.00000000e+00,  2.74848178e-02, -1.07805331e-01,\n",
       "        -4.80887314e-02],\n",
       "       [ 1.00000000e+00,  2.43746626e-01, -1.77643387e-01,\n",
       "        -1.39519231e-01],\n",
       "       [ 1.00000000e+00,  3.18707827e-02, -2.23189946e-01,\n",
       "        -1.75956478e-01],\n",
       "       [ 1.00000000e+00,  1.98200067e-01, -1.01395074e-01,\n",
       "         4.13174764e-02],\n",
       "       [ 1.00000000e+00, -1.60436910e-01, -1.71907895e-01,\n",
       "        -1.50652834e-01],\n",
       "       [ 1.00000000e+00,  2.50831646e-01, -1.35470648e-01,\n",
       "        -7.00185560e-02],\n",
       "       [ 1.00000000e+00, -1.62461201e-01, -1.52677126e-01,\n",
       "        -5.58485155e-02],\n",
       "       [ 1.00000000e+00,  5.29846491e-01, -2.17791835e-01,\n",
       "        -1.73257422e-01],\n",
       "       [ 1.00000000e+00,  1.89428138e-01, -1.09154858e-01,\n",
       "        -1.84053644e-01],\n",
       "       [ 1.00000000e+00,  5.48402497e-01, -1.16914642e-01,\n",
       "         2.44483806e-02],\n",
       "       [ 1.00000000e+00,  6.83080297e-02, -1.86077935e-01,\n",
       "        -1.38507085e-01],\n",
       "       [ 1.00000000e+00, -1.99573212e-01, -9.46474359e-02,\n",
       "        -5.51737517e-02],\n",
       "       [ 1.00000000e+00,  4.46912955e-02, -2.25889001e-01,\n",
       "        -1.94849865e-01],\n",
       "       [ 1.00000000e+00,  5.17363360e-01, -6.05718623e-02,\n",
       "        -2.15092780e-01],\n",
       "       [ 1.00000000e+00, -2.48093792e-02, -1.85403171e-01,\n",
       "        -8.04773954e-02],\n",
       "       [ 1.00000000e+00, -2.23527328e-01, -9.22857625e-02,\n",
       "        -1.96536775e-01],\n",
       "       [ 1.00000000e+00,  6.68847841e-01, -2.16104926e-01,\n",
       "        -8.08147773e-02],\n",
       "       [ 1.00000000e+00, -1.97548920e-01, -1.34121120e-01,\n",
       "        -2.18803981e-01],\n",
       "       [ 1.00000000e+00,  5.15676451e-01, -1.12866059e-01,\n",
       "        -7.37297571e-02],\n",
       "       [ 1.00000000e+00, -1.01395074e-01, -9.56595816e-02,\n",
       "        -4.56646424e-03],\n",
       "       [ 1.00000000e+00, -6.29335358e-02, -6.73195007e-02,\n",
       "        -1.97211538e-01],\n",
       "       [ 1.00000000e+00, -1.39519231e-01, -9.43100540e-02,\n",
       "        -1.94512483e-01],\n",
       "       [ 1.00000000e+00,  6.97525304e-01, -1.28385628e-01,\n",
       "        -2.44719973e-02],\n",
       "       [ 1.00000000e+00, -8.08147773e-02, -1.38507085e-01,\n",
       "        -1.56725709e-01],\n",
       "       [ 1.00000000e+00,  3.97930162e-01, -7.77783401e-02,\n",
       "        -2.20153509e-01],\n",
       "       [ 1.00000000e+00,  2.17493252e-02, -1.68534076e-01,\n",
       "        -1.82366734e-01],\n",
       "       [ 1.00000000e+00,  4.27619771e-01, -1.06455803e-01,\n",
       "         2.91717274e-02],\n",
       "       [ 1.00000000e+00,  5.18038124e-01, -1.13878205e-01,\n",
       "        -9.80212551e-02],\n",
       "       [ 1.00000000e+00,  1.27012483e-01, -2.06658232e-01,\n",
       "        -1.09829622e-01],\n",
       "       [ 1.00000000e+00,  9.86724022e-02, -1.75956478e-01,\n",
       "        -9.46474359e-02],\n",
       "       [ 1.00000000e+00,  2.47457827e-01, -2.19478745e-01,\n",
       "        -1.95524629e-01],\n",
       "       [ 1.00000000e+00,  5.84164980e-01, -2.01260121e-01,\n",
       "        -1.96536775e-01],\n",
       "       [ 1.00000000e+00,  5.94623819e-01, -6.05718623e-02,\n",
       "        -7.64288124e-02],\n",
       "       [ 1.00000000e+00, -9.76838731e-02, -8.99240891e-02,\n",
       "        -1.85740553e-01],\n",
       "       [ 1.00000000e+00, -7.50792848e-02, -1.38844467e-01,\n",
       "        -1.56388327e-01],\n",
       "       [ 1.00000000e+00,  7.21142038e-01, -1.78992915e-01,\n",
       "        -1.01057692e-01],\n",
       "       [ 1.00000000e+00,  1.82343117e-01, -1.97548920e-01,\n",
       "        -6.15840081e-02],\n",
       "       [ 1.00000000e+00,  4.40777665e-01, -1.47279015e-01,\n",
       "        -1.77980769e-01],\n",
       "       [ 1.00000000e+00,  3.52046221e-01, -9.19483806e-02,\n",
       "        -9.86960189e-02],\n",
       "       [ 1.00000000e+00,  4.07714238e-01, -1.54701417e-01,\n",
       "        -1.93837719e-01],\n",
       "       [ 1.00000000e+00, -2.12056343e-01, -1.86752699e-01,\n",
       "        -2.06658232e-01],\n",
       "       [ 1.00000000e+00,  9.09126181e-02, -7.91278677e-02,\n",
       "        -5.55111336e-02],\n",
       "       [ 1.00000000e+00,  2.79509109e-01, -2.21503036e-01,\n",
       "        -1.43905196e-01],\n",
       "       [ 1.00000000e+00, -1.86415317e-01, -1.01395074e-01,\n",
       "        -7.33923752e-02],\n",
       "       [ 1.00000000e+00,  2.18442982e-01, -1.63810729e-01,\n",
       "        -1.09154858e-01],\n",
       "       [ 1.00000000e+00,  3.56094804e-01, -1.64822874e-01,\n",
       "        -1.22312753e-01],\n",
       "       [ 1.00000000e+00,  6.32473009e-02, -1.05106275e-01,\n",
       "        -5.95597166e-02],\n",
       "       [ 1.00000000e+00,  4.09738529e-01, -1.64822874e-01,\n",
       "        -1.39519231e-01],\n",
       "       [ 1.00000000e+00,  3.25730432e-01, -1.01732456e-01,\n",
       "        -2.00922740e-01],\n",
       "       [ 1.00000000e+00,  1.69522605e-01, -1.76293860e-01,\n",
       "        -2.07670378e-01],\n",
       "       [ 1.00000000e+00,  5.65271592e-01, -2.14418016e-01,\n",
       "         6.02108637e-02],\n",
       "       [ 1.00000000e+00, -1.65497638e-01, -9.90334008e-02,\n",
       "        -1.53014507e-01],\n",
       "       [ 1.00000000e+00,  4.71816802e-01, -2.08345142e-01,\n",
       "        -1.60436910e-01],\n",
       "       [ 1.00000000e+00,  5.00831646e-01, -1.46266869e-01,\n",
       "        -3.15570175e-02],\n",
       "       [ 1.00000000e+00,  7.33287787e-01, -1.90126518e-01,\n",
       "        -2.04296559e-01],\n",
       "       [ 1.00000000e+00, -5.71980432e-02, -1.86752699e-01,\n",
       "        -1.63810729e-01],\n",
       "       [ 1.00000000e+00,  3.29104251e-01, -1.55376181e-01,\n",
       "        -6.59699730e-02],\n",
       "       [ 1.00000000e+00, -1.59762146e-01, -1.58075236e-01,\n",
       "        -1.68534076e-01],\n",
       "       [ 1.00000000e+00,  3.42262146e-01, -2.01934885e-01,\n",
       "        -1.82704116e-01],\n",
       "       [ 1.00000000e+00,  5.24448381e-01, -2.14418016e-01,\n",
       "        -1.81691970e-01],\n",
       "       [ 1.00000000e+00,  7.08321525e-01, -6.09092443e-02,\n",
       "        -8.48633603e-02],\n",
       "       [ 1.00000000e+00,  6.12167679e-01, -1.23999663e-01,\n",
       "        -1.57400472e-01],\n",
       "       [ 1.00000000e+00,  3.48335020e-01, -1.99573212e-01,\n",
       "        -1.07130567e-01],\n",
       "       [ 1.00000000e+00,  7.07646761e-01, -2.18129217e-01,\n",
       "        -1.45929487e-01],\n",
       "       [ 1.00000000e+00,  3.32815452e-01, -1.92150810e-01,\n",
       "        -1.66509784e-01],\n",
       "       [ 1.00000000e+00,  3.02451080e-01, -2.17117072e-01,\n",
       "        -1.97886302e-01],\n",
       "       [ 1.00000000e+00,  5.11290486e-01, -2.07670378e-01,\n",
       "        -1.33446356e-01],\n",
       "       [ 1.00000000e+00, -3.62803644e-02, -2.06658232e-01,\n",
       "        -1.25686572e-01],\n",
       "       [ 1.00000000e+00,  7.44421390e-01, -8.08147773e-02,\n",
       "         1.63512146e-02],\n",
       "       [ 1.00000000e+00,  6.30386302e-01, -1.54026653e-01,\n",
       "        -1.24674426e-01],\n",
       "       [ 1.00000000e+00,  4.65743927e-01, -7.37297571e-02,\n",
       "        -1.59762146e-01],\n",
       "       [ 1.00000000e+00,  2.44758772e-01, -2.18803981e-01,\n",
       "        -1.36145412e-01],\n",
       "       [ 1.00000000e+00,  4.18847841e-01, -1.29060391e-01,\n",
       "        -1.64485493e-01],\n",
       "       [ 1.00000000e+00,  7.39023279e-01, -1.78992915e-01,\n",
       "        -2.13405870e-01],\n",
       "       [ 1.00000000e+00, -1.62798583e-01, -1.85065789e-01,\n",
       "        -1.46941633e-01],\n",
       "       [ 1.00000000e+00, -9.26231444e-02, -8.72250337e-02,\n",
       "        -2.06320850e-01],\n",
       "       [ 1.00000000e+00,  2.88343455e-02, -1.89451754e-01,\n",
       "        -2.05646086e-01],\n",
       "       [ 1.00000000e+00, -1.67859312e-01, -2.12056343e-01,\n",
       "        -1.19276316e-01],\n",
       "       [ 1.00000000e+00,  3.36864035e-01, -8.41885965e-02,\n",
       "        -2.13743252e-01],\n",
       "       [ 1.00000000e+00,  2.79171727e-01, -1.05781039e-01,\n",
       "        -2.05646086e-01],\n",
       "       [ 1.00000000e+00, -9.70091093e-02, -2.13405870e-01,\n",
       "        -1.79330297e-01],\n",
       "       [ 1.00000000e+00,  9.19247638e-02, -2.09357287e-01,\n",
       "        -1.98561066e-01],\n",
       "       [ 1.00000000e+00,  3.71276991e-01, -1.94512483e-01,\n",
       "        -2.04296559e-01],\n",
       "       [ 1.00000000e+00,  7.30926113e-01, -8.41885965e-02,\n",
       "        -2.54217274e-03],\n",
       "       [ 1.00000000e+00,  5.57174426e-01, -1.96874157e-01,\n",
       "        -1.96536775e-01]])"
      ]
     },
     "execution_count": 3,
     "metadata": {},
     "output_type": "execute_result"
    }
   ],
   "execution_count": 3
  },
  {
   "cell_type": "markdown",
   "metadata": {},
   "source": [
    "##### Schocastic Gradient Descent Implementation"
   ]
  },
  {
   "cell_type": "code",
   "metadata": {
    "ExecuteTime": {
     "end_time": "2024-10-11T23:19:45.235899Z",
     "start_time": "2024-10-11T23:19:45.210783Z"
    }
   },
   "source": [
    "def stochastic_gradient_descent(X_b, y, n_epochs=50, learning_rate=0.00001):\n",
    "\n",
    "    # thetas = np.random.randn(4,1) # uncomment this line for real application\n",
    "    thetas = np.asarray([[1.16270837] , [ -0.81960489] , [1.39501033] ,[0.29763545]])\n",
    "    \n",
    "    thetas_path = [thetas]\n",
    "    losses = []\n",
    "    \n",
    "    for epoch in range(n_epochs):\n",
    "        for i in range(N):\n",
    "            # select random number in N  \n",
    "            # random_index = np.random.randint(N) # In real application, you should use this code\n",
    "            random_index = i # This code is used for this assignment only\n",
    "            \n",
    "            xi = X_b[random_index:random_index+1]\n",
    "            yi = y[random_index:random_index+1]\n",
    "            \n",
    "            # Compute output\n",
    "            yi_hat = xi @ thetas\n",
    "            \n",
    "            # Compute loss li\n",
    "            li = (yi - yi_hat)**2 / 2 \n",
    "            \n",
    "            # Compute gradient for loss\n",
    "            dli = 2 * (yi_hat - yi)\n",
    "            \n",
    "            # Compute gradient\n",
    "            dlidw = dli * xi\n",
    "            \n",
    "            # update theta\n",
    "            thetas -= learning_rate * dlidw.T\n",
    "            \n",
    "            # logging\n",
    "            losses.append(li.squeeze())\n",
    "    \n",
    "    return thetas_path, losses"
   ],
   "outputs": [],
   "execution_count": 4
  },
  {
   "cell_type": "markdown",
   "metadata": {},
   "source": [
    "###### Demo"
   ]
  },
  {
   "cell_type": "code",
   "metadata": {
    "ExecuteTime": {
     "end_time": "2024-10-11T23:19:48.644059Z",
     "start_time": "2024-10-11T23:19:47.947843Z"
    }
   },
   "source": [
    "sgd_theta, losses = stochastic_gradient_descent(X_b, y, n_epochs=50, learning_rate=0.01)\n",
    "x_axis = list(range(500))\n",
    "plt.plot(x_axis, losses[:500], color='r')\n",
    "plt.show()"
   ],
   "outputs": [
    {
     "data": {
      "text/plain": [
       "<Figure size 640x480 with 1 Axes>"
      ],
      "image/png": "[encoded data removed]"
     },
     "metadata": {},
     "output_type": "display_data"
    }
   ],
   "execution_count": 5
  },
  {
   "cell_type": "code",
   "metadata": {
    "ExecuteTime": {
     "end_time": "2024-10-11T23:19:57.812426Z",
     "start_time": "2024-10-11T23:19:57.788370Z"
    }
   },
   "source": [
    "sgd_theta , losses = stochastic_gradient_descent ( X_b , y , n_epochs =1 , learning_rate=0.01 )\n",
    "print ( np.sum( losses ) )"
   ],
   "outputs": [
    {
     "name": "stdout",
     "output_type": "stream",
     "text": [
      "4196.314606545337\n"
     ]
    }
   ],
   "execution_count": 6
  },
  {
   "cell_type": "markdown",
   "metadata": {},
   "source": [
    "##### Minibatch Gradient Descent Implementation"
   ]
  },
  {
   "cell_type": "code",
   "metadata": {
    "ExecuteTime": {
     "end_time": "2024-10-11T23:20:13.115065Z",
     "start_time": "2024-10-11T23:20:13.090380Z"
    }
   },
   "source": [
    "def mini_batch_gradient_descent(X_b, y, n_epochs=50, minibatch_size=20, learning_rate=0.01):\n",
    "\n",
    "    # thetas = np.random.randn(4,1)\n",
    "    thetas = np.asarray([[1.16270837], [-0.81960489], [1.39501033], [0.29763545]])\n",
    "    \n",
    "    thetas_path = [thetas]\n",
    "    losses = []\n",
    "    \n",
    "    for epoch in range(n_epochs):\n",
    "        # shuffled_indices = np.random.permutation(N) # uncomment this code for real application\n",
    "        \n",
    "        shuffled_indices = np.asarray([21, 144, 17, 107, 37, 115, 167, 31, 3, 132, 179, 155, 36, 191, 182, 170, 27, 35, 162, 25, 28, 73, 172, 152, 102, 16, 185, 11, 1, 34, 177, 29, 96, 22, 76, 196, 6, 128, 114, 117, 111, 43, 57, 126, 165, 78, 151, 104, 110, 53, 181, 113, 173, 75, 23, 161, 85, 94, 18, 148, 190, 169, 149, 79, 138, 20, 108, 137, 93, 192, 198, 153, 4, 45, 164, 26, 8, 131, 77, 80, 130, 127, 125, 61, 10, 175, 143, 87, 33, 50, 54, 97, 9, 84, 188, 139, 195, 72, 64, 194, 44, 109, 112, 60, 86, 90, 140, 171, 59, 199, 105, 41, 147, 92, 52, 124, 71, 197, 163, 98, 189, 103, 51, 39, 180, 74, 145, 118, 38, 47, 174, 100, 184, 183, 160, 69, 91, 82, 42, 89, 81, 186, 136, 63, 157, 46, 67, 129, 120, 116, 32, 19, 187, 70, 141, 146, 15, 58, 119, 12, 95, 0, 40, 83, 24, 168, 150, 178, 49, 159, 7, 193, 48, 30, 14, 121, 5, 142, 65, 176, 101, 55, 133, 13, 106, 66, 99, 68, 135, 158, 88, 62, 166, 156, 2, 134, 56, 123, 122, 154])\n",
    "        \n",
    "        X_b_shuffled = X_b[shuffled_indices]\n",
    "        y_shuffled = y[shuffled_indices]\n",
    "        \n",
    "        for i in range(0, N, minibatch_size):\n",
    "            xi = X_b_shuffled[i:i+minibatch_size]\n",
    "            yi = y_shuffled[i:i+minibatch_size]\n",
    "            \n",
    "            # Compute output\n",
    "            yi_hat = xi @ thetas\n",
    "    \n",
    "            # Compute loss li\n",
    "            loss = (yi - yi_hat) ** 2 / 2\n",
    "            \n",
    "            # Compute gradient for loss\n",
    "            dli = 2 * (yi_hat - yi)\n",
    "            # Compute gradient\n",
    "            gradients = (xi.T @ dli) / minibatch_size\n",
    "            \n",
    "            # update parameters\n",
    "            thetas = thetas - learning_rate * gradients\n",
    "            thetas_path.append(thetas)\n",
    "            \n",
    "            loss_mean = np.sum(loss) / minibatch_size\n",
    "            losses.append(loss_mean)\n",
    "    \n",
    "    return thetas_path, losses\n"
   ],
   "outputs": [],
   "execution_count": 8
  },
  {
   "cell_type": "markdown",
   "metadata": {},
   "source": [
    "###### Demo"
   ]
  },
  {
   "cell_type": "code",
   "metadata": {
    "ExecuteTime": {
     "end_time": "2024-10-11T23:20:14.658541Z",
     "start_time": "2024-10-11T23:20:14.299426Z"
    }
   },
   "source": [
    "mbgd_thetas , losses = mini_batch_gradient_descent ( X_b , y , n_epochs =50 , minibatch_size = 20 , learning_rate =0.01)\n",
    "x_axis = list ( range (200) )\n",
    "plt.plot ( x_axis , losses [:200] , color =\"r\")\n",
    "plt.show ()"
   ],
   "outputs": [
    {
     "data": {
      "text/plain": [
       "<Figure size 640x480 with 1 Axes>"
      ],
      "image/png": "[encoded data removed]"
     },
     "metadata": {},
     "output_type": "display_data"
    }
   ],
   "execution_count": 9
  },
  {
   "cell_type": "code",
   "execution_count": 148,
   "metadata": {},
   "outputs": [
    {
     "name": "stdout",
     "output_type": "stream",
     "text": [
      "11402.48\n"
     ]
    }
   ],
   "source": [
    "mbgd_thetas , losses = mini_batch_gradient_descent ( X_b , y , n_epochs =50 , minibatch_size = 20 , learning_rate =0.01)\n",
    "print ( round ( sum( losses ) ,2) )"
   ]
  },
  {
   "cell_type": "markdown",
   "metadata": {},
   "source": [
    "##### Batch Gradient Descent Implementation"
   ]
  },
  {
   "cell_type": "code",
   "execution_count": 166,
   "metadata": {},
   "outputs": [],
   "source": [
    "\n",
    "def batch_gradient_descent(X_b, y, n_epochs=100, learning_rate=0.01):\n",
    "\n",
    "    # thetas = np.random.randn(4,1) # uncomment this line for real application\n",
    "    thetas = np.asarray([[1.16270837], [-0.81960489], [1.39501033], [0.29763545]])\n",
    "    \n",
    "    thetas_path = [thetas]\n",
    "    losses = []\n",
    "    \n",
    "    for i in range(n_epochs):\n",
    "        # Compute output\n",
    "        y_hat = X_b @ thetas\n",
    "\n",
    "        # Compute loss li\n",
    "        loss = (y - y_hat) ** 2\n",
    "        \n",
    "        # Compute gradient for loss\n",
    "        dl = 2 * (y_hat - y)\n",
    "        # Compute gradient\n",
    "        gradients = (X_b.T @ dl) / len(X_b)\n",
    "        \n",
    "        # Update parameters\n",
    "        thetas = thetas - learning_rate * gradients\n",
    "        thetas_path.append(thetas)\n",
    "        \n",
    "        mean_loss = np.sum(loss) / N\n",
    "        losses.append(mean_loss)\n",
    "    \n",
    "    return thetas_path, losses"
   ]
  },
  {
   "cell_type": "markdown",
   "metadata": {},
   "source": [
    "###### Demo"
   ]
  },
  {
   "cell_type": "code",
   "execution_count": 167,
   "metadata": {},
   "outputs": [
    {
     "data": {
      "image/png": "[encoded data removed]",
      "text/plain": [
       "<Figure size 640x480 with 1 Axes>"
      ]
     },
     "metadata": {},
     "output_type": "display_data"
    }
   ],
   "source": [
    "bgd_thetas , losses = batch_gradient_descent ( X_b , y , n_epochs =100 , learning_rate=0.01)\n",
    "x_axis = list ( range (100) )\n",
    "plt . plot ( x_axis , losses [:100] , color =\"r\")\n",
    "plt . show ()"
   ]
  },
  {
   "cell_type": "code",
   "execution_count": 168,
   "metadata": {},
   "outputs": [
    {
     "name": "stdout",
     "output_type": "stream",
     "text": [
      "6716.46\n"
     ]
    }
   ],
   "source": [
    "bgd_thetas , losses = batch_gradient_descent ( X_b , y , n_epochs =100 , learning_rate=0.01)\n",
    "print ( round ( sum( losses ) ,2) )"
   ]
  },
  {
   "cell_type": "code",
   "execution_count": null,
   "metadata": {},
   "outputs": [],
   "source": []
  }
 ],
 "metadata": {
  "kernelspec": {
   "display_name": "Python 3 (ipykernel)",
   "language": "python",
   "name": "python3"
  },
  "language_info": {
   "codemirror_mode": {
    "name": "ipython",
    "version": 3
   },
   "file_extension": ".py",
   "mimetype": "text/x-python",
   "name": "python",
   "nbconvert_exporter": "python",
   "pygments_lexer": "ipython3",
   "version": "3.11.9"
  }
 },
 "nbformat": 4,
 "nbformat_minor": 4
}
