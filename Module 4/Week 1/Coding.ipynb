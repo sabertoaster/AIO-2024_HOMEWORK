{
 "cells": [
  {
   "metadata": {},
   "cell_type": "markdown",
   "source": "### Exercise 1",
   "id": "ea73a4608f4abf78"
  },
  {
   "cell_type": "code",
   "id": "initial_id",
   "metadata": {
    "collapsed": true,
    "ExecuteTime": {
     "end_time": "2024-10-11T23:19:25.462309Z",
     "start_time": "2024-10-11T23:19:23.190490Z"
    }
   },
   "source": [
    "# dataset\n",
    "import numpy as np\n",
    "import matplotlib.pyplot as plt\n",
    "import random\n",
    "\n",
    "\n",
    "def get_column(data, index):\n",
    "    result = np.array(data)[:, index]\n",
    "    return result\n",
    "\n",
    "\n",
    "def prepare_data(file_name_dataset):\n",
    "    data = np.genfromtxt(file_name_dataset, delimiter=',', skip_header=1).tolist()\n",
    "    N = len(data)\n",
    "\n",
    "    # get tv (index=0)\n",
    "    tv_data = get_column(data, 0)\n",
    "\n",
    "    # get radio (index=1)\n",
    "    radio_data = get_column(data, 1)\n",
    "\n",
    "    # get newspaper (index=2)\n",
    "    newspaper_data = get_column(data, 2)\n",
    "\n",
    "    # get sales (index=3)\n",
    "    sales_data = get_column(data, 3)\n",
    "\n",
    "    # building X input and y output for training\n",
    "    X = [tv_data, radio_data, newspaper_data]\n",
    "    y = sales_data\n",
    "    return X, y\n",
    "\n",
    "\n",
    "X, y = prepare_data('advertising.csv')\n",
    "list_ = [sum(X[0][:5]), sum(X[1][:5]), sum(X[2][:5]), sum(y[:5])]\n",
    "print(list_)\n"
   ],
   "outputs": [
    {
     "name": "stdout",
     "output_type": "stream",
     "text": [
      "[624.1, 175.10000000000002, 300.5, 78.9]\n"
     ]
    }
   ],
   "execution_count": 1
  },
  {
   "metadata": {},
   "cell_type": "markdown",
   "source": "### Exercise 2",
   "id": "1b0d8427d6eaad04"
  },
  {
   "metadata": {
    "ExecuteTime": {
     "end_time": "2024-10-01T01:24:50.832449Z",
     "start_time": "2024-10-01T01:24:50.817051Z"
    }
   },
   "cell_type": "code",
   "source": [
    "# from sklearn.metrics import mean_squared_error as compute_loss_mse\n",
    "\n",
    "\n",
    "def implement_linear_regression(X_data, y_data, epoch_max=50, lr=1e-5):\n",
    "    losses = []\n",
    "\n",
    "    w1, w2, w3, b = initialize_params()\n",
    "\n",
    "    N = len(y_data)\n",
    "    for epoch in range(epoch_max):\n",
    "        for i in range(N):\n",
    "            # get a sample\n",
    "            x1 = X_data[0][i]\n",
    "            x2 = X_data[1][i]\n",
    "            x3 = X_data[2][i]\n",
    "\n",
    "            y = y_data[i]\n",
    "\n",
    "            # compute output\n",
    "            y_hat = predict(x1, x2, x3, w1, w2, w3, b)\n",
    "\n",
    "            # compute loss\n",
    "            loss = compute_loss(y, y_hat)\n",
    "\n",
    "            # compute gradient w1, w2, w3, b\n",
    "            dl_dw1 = compute_gradient_wi(x1, y, y_hat)\n",
    "            dl_dw2 = compute_gradient_wi(x2, y, y_hat)\n",
    "            dl_dw3 = compute_gradient_wi(x3, y, y_hat)\n",
    "            dl_db = compute_gradient_b(y, y_hat)\n",
    "\n",
    "            # update parameters\n",
    "            w1 = update_weight_wi(w1, dl_dw1, lr)\n",
    "            w2 = update_weight_wi(w2, dl_dw2, lr)\n",
    "            w3 = update_weight_wi(w3, dl_dw3, lr)\n",
    "            b = update_weight_b(b, dl_db, lr)\n",
    "\n",
    "            # logging\n",
    "            losses.append(loss)\n",
    "    return (w1, w2, w3, b, losses)\n",
    "\n",
    "\n",
    "def initialize_params():\n",
    "    w1, w2, w3, b = (0.016992259082509283, 0.0070783670518262355,\n",
    "                     -0.002307860847821344, 0)\n",
    "    return w1, w2, w3, b\n",
    "\n",
    "\n",
    "def predict(x1, x2, x3, w1, w2, w3, b):\n",
    "    result = x1 * w1 + x2 * w2 + x3 * w3 + b\n",
    "    return result\n",
    "\n",
    "\n",
    "def compute_loss(y_hat, y):\n",
    "    loss = (y_hat - y) ** 2\n",
    "    return loss\n",
    "\n",
    "\n",
    "# compute gradient\n",
    "def compute_gradient_wi(xi, y, y_hat):\n",
    "    dl_dwi = 2 * xi * (y_hat - y)\n",
    "    return dl_dwi\n",
    "\n",
    "\n",
    "def compute_gradient_b(y, y_hat):\n",
    "    # your code here *** *** *** *******************\n",
    "    return 2 * (y_hat - y)\n",
    "\n",
    "\n",
    "# update weights\n",
    "def update_weight_wi(wi, dl_dwi, lr):\n",
    "    wi -= lr * dl_dwi\n",
    "    return wi\n",
    "\n",
    "\n",
    "def update_weight_b(b, dl_db, lr):\n",
    "    b -= lr * dl_db\n",
    "    return b\n"
   ],
   "id": "c7352dd693b20e22",
   "outputs": [],
   "execution_count": 11
  },
  {
   "metadata": {},
   "cell_type": "markdown",
   "source": "#### 2.2",
   "id": "7a1c57b7f3bea507"
  },
  {
   "metadata": {},
   "cell_type": "code",
   "outputs": [],
   "execution_count": null,
   "source": [
    "y = predict(x1=1, x2=1, x3=1, w1=0, w2=0.5, w3=0, b=0.5)\n",
    "print(y)"
   ],
   "id": "65b121d069d9796"
  },
  {
   "metadata": {},
   "cell_type": "markdown",
   "source": "#### 2.3",
   "id": "b0d9ab2f8650fd3f"
  },
  {
   "metadata": {
    "ExecuteTime": {
     "end_time": "2024-10-01T01:19:53.097328Z",
     "start_time": "2024-10-01T01:19:53.091587Z"
    }
   },
   "cell_type": "code",
   "source": [
    "l = compute_loss(y_hat=1, y=0.5)\n",
    "print(l)"
   ],
   "id": "4eb7829a052387d6",
   "outputs": [
    {
     "name": "stdout",
     "output_type": "stream",
     "text": [
      "0.25\n"
     ]
    }
   ],
   "execution_count": 2
  },
  {
   "metadata": {},
   "cell_type": "markdown",
   "source": "#### 2.4",
   "id": "c610c5f938aaf86b"
  },
  {
   "metadata": {
    "ExecuteTime": {
     "end_time": "2024-10-01T01:20:40.219374Z",
     "start_time": "2024-10-01T01:20:40.211649Z"
    }
   },
   "cell_type": "code",
   "source": [
    "g_wi = compute_gradient_wi(xi=1.0, y=1.0, y_hat=0.5)\n",
    "print(g_wi)"
   ],
   "id": "4b1d7c3a7ce50580",
   "outputs": [
    {
     "name": "stdout",
     "output_type": "stream",
     "text": [
      "-1.0\n"
     ]
    }
   ],
   "execution_count": 3
  },
  {
   "metadata": {
    "ExecuteTime": {
     "end_time": "2024-10-01T01:21:34.768667Z",
     "start_time": "2024-10-01T01:21:34.761547Z"
    }
   },
   "cell_type": "code",
   "source": [
    "g_b = compute_gradient_b(y=2.0, y_hat=0.5)\n",
    "print(g_b)"
   ],
   "id": "c5452aeeb030aa3b",
   "outputs": [
    {
     "name": "stdout",
     "output_type": "stream",
     "text": [
      "-3.0\n"
     ]
    }
   ],
   "execution_count": 4
  },
  {
   "metadata": {},
   "cell_type": "markdown",
   "source": "#### 2.5",
   "id": "143b9ec573a0337e"
  },
  {
   "metadata": {
    "ExecuteTime": {
     "end_time": "2024-10-01T01:22:47.288609Z",
     "start_time": "2024-10-01T01:22:47.281356Z"
    }
   },
   "cell_type": "code",
   "source": [
    "after_wi = update_weight_wi(wi=1.0, dl_dwi=-0.5, lr=1e-5)\n",
    "print(after_wi)"
   ],
   "id": "2b85350fde1eb550",
   "outputs": [
    {
     "name": "stdout",
     "output_type": "stream",
     "text": [
      "1.000005\n"
     ]
    }
   ],
   "execution_count": 6
  },
  {
   "metadata": {
    "ExecuteTime": {
     "end_time": "2024-10-01T01:23:26.971186Z",
     "start_time": "2024-10-01T01:23:26.961328Z"
    }
   },
   "cell_type": "code",
   "source": [
    "after_b = update_weight_b(b=0.5, dl_db=-1.0, lr=1e-5)\n",
    "print(after_b)"
   ],
   "id": "d31660e3d249fcaf",
   "outputs": [
    {
     "name": "stdout",
     "output_type": "stream",
     "text": [
      "0.50001\n"
     ]
    }
   ],
   "execution_count": 7
  },
  {
   "metadata": {},
   "cell_type": "markdown",
   "source": "#### 2.6",
   "id": "5d9ab54ae2444ca1"
  },
  {
   "metadata": {
    "ExecuteTime": {
     "end_time": "2024-10-01T01:24:54.142118Z",
     "start_time": "2024-10-01T01:24:54.081314Z"
    }
   },
   "cell_type": "code",
   "source": [
    "X, y = prepare_data('advertising.csv')\n",
    "(w1, w2, w3, b, losses) = implement_linear_regression(X, y)\n",
    "print(w1, w2, w3)"
   ],
   "id": "e1c4a572080a6293",
   "outputs": [
    {
     "name": "stdout",
     "output_type": "stream",
     "text": [
      "0.07405984066396477 0.15917360263437663 0.017561197559948935\n"
     ]
    }
   ],
   "execution_count": 12
  },
  {
   "metadata": {
    "ExecuteTime": {
     "end_time": "2024-10-01T01:25:57.504830Z",
     "start_time": "2024-10-01T01:25:57.452960Z"
    }
   },
   "cell_type": "code",
   "source": [
    "# given new data\n",
    "tv = 19.2\n",
    "radio = 35.9\n",
    "newspaper = 51.3\n",
    "\n",
    "X, y = prepare_data('advertising.csv')\n",
    "(w1, w2, w3, b, losses) = implement_linear_regression(X, y, epoch_max=50, lr=1e-5)\n",
    "sales = predict(tv, radio, newspaper, w1, w2, w3, b)\n",
    "print(f'predicted sales is {sales}')"
   ],
   "id": "9516efd2c897c57",
   "outputs": [
    {
     "name": "stdout",
     "output_type": "stream",
     "text": [
      "predicted sales is 8.176413319549823\n"
     ]
    }
   ],
   "execution_count": 13
  },
  {
   "metadata": {},
   "cell_type": "markdown",
   "source": "#### 2.7",
   "id": "8c21b539b9b149d3"
  },
  {
   "metadata": {},
   "cell_type": "code",
   "outputs": [],
   "execution_count": null,
   "source": "",
   "id": "f0fc275ee087dc2a"
  },
  {
   "metadata": {},
   "cell_type": "markdown",
   "source": "### Exercise 3",
   "id": "899b102882dd8970"
  },
  {
   "metadata": {
    "ExecuteTime": {
     "end_time": "2024-10-01T01:50:20.644757Z",
     "start_time": "2024-10-01T01:50:20.631542Z"
    }
   },
   "cell_type": "code",
   "source": [
    "def compute_loss_mae(y, y_pred):\n",
    "    return np.abs(y - y_pred)\n",
    "\n",
    "\n",
    "def compute_loss_mse(y_hat, y):\n",
    "    loss = (y_hat - y) ** 2\n",
    "    return loss\n",
    "\n",
    "\n",
    "# N-sample training\n",
    "def implement_linear_regression_nsamples(X_data, y_data, epoch_max=50, lr=1e-5):\n",
    "    losses = []\n",
    "\n",
    "    w1, w2, w3, b = initialize_params()\n",
    "    N = len(y_data)\n",
    "\n",
    "    for epoch in range(epoch_max):\n",
    "        loss_total = 0.0\n",
    "        dw1_total = 0.0\n",
    "        dw2_total = 0.0\n",
    "        dw3_total = 0.0\n",
    "        db_total = 0.0\n",
    "\n",
    "        for i in range(N):\n",
    "            # get a sample\n",
    "            x1 = X_data[0][i]\n",
    "            x2 = X_data[1][i]\n",
    "            x3 = X_data[2][i]\n",
    "\n",
    "            y = y_data[i]\n",
    "\n",
    "            # compute output\n",
    "            y_hat = predict(x1, x2, x3, w1, w2, w3, b)\n",
    "\n",
    "            # compute loss\n",
    "            loss = compute_loss(y, y_hat)\n",
    "\n",
    "            # accumulate loss\n",
    "            loss_total += loss\n",
    "\n",
    "            # compute gradient w1, w2, w3, b\n",
    "            dl_dw1 = compute_gradient_wi(x1, y, y_hat)\n",
    "            dl_dw2 = compute_gradient_wi(x2, y, y_hat)\n",
    "            dl_dw3 = compute_gradient_wi(x3, y, y_hat)\n",
    "            dl_db = compute_gradient_b(y, y_hat)\n",
    "\n",
    "            # accumulate gradient w1, w2, w3, b\n",
    "            dw1_total += dl_dw1\n",
    "            dw2_total += dl_dw2\n",
    "            dw3_total += dl_dw3\n",
    "            db_total += dl_db\n",
    "\n",
    "        # (after processing N samples) - update parameters\n",
    "        w1 = update_weight_wi(w1, dw1_total / N, lr)\n",
    "        w2 = update_weight_wi(w2, dw2_total / N, lr)\n",
    "        w3 = update_weight_wi(w3, dw3_total / N, lr)\n",
    "        b = update_weight_b(b, db_total / N, lr)\n",
    "\n",
    "        # logging\n",
    "        losses.append(loss_total / N)\n",
    "    return (w1, w2, w3, b, losses)\n"
   ],
   "id": "4ab30a5c1d3648a1",
   "outputs": [],
   "execution_count": 24
  },
  {
   "metadata": {
    "ExecuteTime": {
     "end_time": "2024-10-01T01:50:22.348642Z",
     "start_time": "2024-10-01T01:50:21.181774Z"
    }
   },
   "cell_type": "code",
   "source": [
    "X, y = prepare_data('advertising.csv')\n",
    "# using MSE loss\n",
    "(w1, w2, w3, b, losses) = implement_linear_regression_nsamples(X, y, epoch_max=1000, lr=1e-5)\n",
    "\n",
    "print(w1, w2, w3)"
   ],
   "id": "e94b468404a661e3",
   "outputs": [
    {
     "name": "stdout",
     "output_type": "stream",
     "text": [
      "0.06710990754044266 0.15756173831487585 0.029619799386084403\n"
     ]
    }
   ],
   "execution_count": 25
  },
  {
   "metadata": {
    "ExecuteTime": {
     "end_time": "2024-10-01T01:47:26.956376Z",
     "start_time": "2024-10-01T01:47:26.262900Z"
    }
   },
   "cell_type": "code",
   "source": [
    "(w1, w2, w3, b, losses) = implement_linear_regression_nsamples(X, y, epoch_max=1000, lr=1e-5)\n",
    "# print(losses)\n",
    "plt.plot(losses)\n",
    "plt.xlabel(\"# epoch \")\n",
    "plt.ylabel(\"MSE Loss \")\n",
    "plt.show()\n",
    "print(w1, w2, w3)"
   ],
   "id": "2d551a2b51b0f0ad",
   "outputs": [
    {
     "data": {
      "text/plain": [
       "<Figure size 640x480 with 1 Axes>"
      ],
      "image/png": "[encoded data removed]"
     },
     "metadata": {},
     "output_type": "display_data"
    },
    {
     "name": "stdout",
     "output_type": "stream",
     "text": [
      "0.06710990754044266 0.15756173831487585 0.029619799386084403\n"
     ]
    }
   ],
   "execution_count": 20
  },
  {
   "metadata": {},
   "cell_type": "markdown",
   "source": "### Exercise 4",
   "id": "549dd9b2b217e102"
  },
  {
   "metadata": {},
   "cell_type": "code",
   "outputs": [],
   "execution_count": null,
   "source": [
    "# Additional functions for the last part of the exercise\n",
    "def prepare_data(file_name_dataset):\n",
    "    data = np.genfromtxt(file_name_dataset, delimiter=',', skip_header=1).tolist()\n",
    "\n",
    "    # get tv (index=0)\n",
    "    tv_data = get_column(data, 0)\n",
    "\n",
    "    # get radio (index=1)\n",
    "    radio_data = get_column(data, 1)\n",
    "\n",
    "    # get newspaper (index=2)\n",
    "    newspaper_data = get_column(data, 2)\n",
    "\n",
    "    # get sales (index=3)\n",
    "    sales_data = get_column(data, 3)\n",
    "\n",
    "    # building X input and y output for training\n",
    "    # Create list of features for input\n",
    "    X = [[1, x1, x2, x3] for x1, x2, x3 in zip(tv_data, radio_data, newspaper_data)]\n",
    "    y = sales_data\n",
    "    return X, y\n",
    "\n",
    "\n",
    "def initialize_params():\n",
    "    bias = 0\n",
    "    w1 = random.gauss(mu=0.0, sigma=0.01)\n",
    "    w2 = random.gauss(mu=0.0, sigma=0.01)\n",
    "    w3 = random.gauss(mu=0.0, sigma=0.01)\n",
    "\n",
    "    # comment this line for real application\n",
    "    return [0, -0.01268850433497871, 0.004752496982185252, 0.0073796171538643845]\n",
    "    # return [bias, w1, w2, w3]\n",
    "\n",
    "\n",
    "# Predict output by using y = x0 * b + x1 * w1 + x2 * w2 + x3 * w3\n",
    "def predict(X_features, weights):\n",
    "    # your code here ......\n",
    "    return result\n",
    "\n",
    "\n",
    "def compute_loss(y_hat, y):\n",
    "    return (y_hat - y) ** 2\n",
    "\n",
    "\n",
    "# compute gradient\n",
    "def compute_gradient_w(X_features, y, y_hat):\n",
    "    # your code here ......\n",
    "    return dl_dweights\n",
    "\n",
    "\n",
    "# update weights\n",
    "def update_weight(weights, dl_dweights, lr):\n",
    "    # your code here ......\n",
    "    return weights\n",
    "\n",
    "\n",
    "def implement_linear_regression(X_feature, y_ouput, epoch_max=50, lr=1e-5):\n",
    "    losses = []\n",
    "    weights = initialize_params()\n",
    "    N = len(y_ouput)\n",
    "    for epoch in range(epoch_max):\n",
    "        print(\"epoch\", epoch)\n",
    "        for i in range(N):\n",
    "            # get a sample - row i\n",
    "            features_i = X_feature[i]\n",
    "            y = sales_data[i]\n",
    "\n",
    "            # compute output\n",
    "            y_hat = predict(features_i, weights)\n",
    "\n",
    "            # compute loss\n",
    "            loss = compute_loss(y, y_hat)\n",
    "\n",
    "            # compute gradient w1, w2, w3, b\n",
    "            dl_dweights = compute_gradient_w(features_i, y, y_hat)\n",
    "\n",
    "            # update parameters\n",
    "            weights = update_weight(weights, dl_dweights, lr)\n",
    "\n",
    "            # logging\n",
    "            losses.append(loss)\n",
    "    return weights, losses\n",
    "\n",
    "\n",
    "X, y = prepare_data('advertising.csv')\n",
    "W, L = implement_linear_regression(X, y)\n",
    "plt.plot(L[0:100])\n",
    "plt.xlabel(\"# iteration\")\n",
    "plt.ylabel(\"Loss\")\n",
    "plt.show()"
   ],
   "id": "704199f77cf4f2e7"
  }
 ],
 "metadata": {
  "kernelspec": {
   "display_name": "Python 3",
   "language": "python",
   "name": "python3"
  },
  "language_info": {
   "codemirror_mode": {
    "name": "ipython",
    "version": 2
   },
   "file_extension": ".py",
   "mimetype": "text/x-python",
   "name": "python",
   "nbconvert_exporter": "python",
   "pygments_lexer": "ipython2",
   "version": "2.7.6"
  }
 },
 "nbformat": 4,
 "nbformat_minor": 5
}
