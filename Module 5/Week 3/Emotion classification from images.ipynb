{
  "nbformat": 4,
  "nbformat_minor": 0,
  "metadata": {
    "colab": {
      "provenance": []
    },
    "kernelspec": {
      "name": "python3",
      "display_name": "Python 3"
    },
    "language_info": {
      "name": "python"
    }
  },
  "cells": [
    {
      "cell_type": "code",
      "execution_count": null,
      "metadata": {
        "id": "j8XbioP7s0pP"
      },
      "outputs": [],
      "source": [
        "# 1. Download dataset\n",
        "!gdown --id 1GaTMURqIQTjtalbNVAyVgPIEis21A0r8\n",
        "\n",
        "# Unzip data\n",
        "!unzip -q './FER-2013.zip'\n"
      ]
    },
    {
      "cell_type": "code",
      "source": [
        "# 2. Import libraries\n",
        "import cv2\n",
        "import os\n",
        "import numpy as np\n",
        "import pandas as pd\n",
        "import matplotlib.pyplot as plt\n",
        "import torch\n",
        "import torch.nn as nn\n",
        "import torch.nn.functional as F\n",
        "from torch.utils.data import Dataset, DataLoader\n",
        "from torchvision.transforms import Resize\n",
        "from torchvision.io import read_image\n",
        "\n",
        "from sklearn.model_selection import train_test_split\n",
        "from sklearn.preprocessing import StandardScaler"
      ],
      "metadata": {
        "id": "4mf1Jf4ws270"
      },
      "execution_count": null,
      "outputs": []
    },
    {
      "cell_type": "code",
      "source": [
        "# 3. Set random seed and computation device\n",
        "device = torch.device('cuda:0' if torch.cuda.is_available() else 'cpu')\n",
        "random_state = 59\n",
        "np.random.seed(random_state)\n",
        "torch.manual_seed(random_state)\n",
        "if torch.cuda.is_available():\n",
        "    torch.cuda.manual_seed(random_state)"
      ],
      "metadata": {
        "id": "VDqLoeFetDA3"
      },
      "execution_count": null,
      "outputs": []
    },
    {
      "cell_type": "code",
      "source": [
        "# 4. Read number of classes from dataset\n",
        "train_dir = '/content/train'\n",
        "test_dir = '/content/test'\n",
        "\n",
        "classes = os.listdir(train_dir)\n",
        "\n",
        "label2idx = {cls:idx for idx, cls in enumerate(classes)}\n",
        "idx2label = {idx:cls for cls, idx in label2idx.items()}"
      ],
      "metadata": {
        "id": "fCyYPq3JtBnP"
      },
      "execution_count": null,
      "outputs": []
    },
    {
      "cell_type": "code",
      "source": [
        "# 5. Build DataLoader\n",
        "test_img_path = '/content/train/angry/Training_10118481.jpg'\n",
        "img = cv2.imread(test_img_path)\n",
        "img_height, img_width = (128, 128)\n",
        "print(f'Image height: {img_height}')\n",
        "print(f'Image width: {img_width}')\n",
        "\n",
        "class ImageDataset(Dataset):\n",
        "    def __init__(self, img_dir, norm, label2idx,\n",
        "                 split='train', train_ratio=0.8):\n",
        "        self.resize = Resize((img_height, img_width))\n",
        "        self.norm = norm\n",
        "        self.split = split\n",
        "        self.train_ratio = train_ratio\n",
        "        self.img_dir = img_dir\n",
        "        self.label2idx = label2idx\n",
        "        self.img_paths, self.img_labels = self.read_img_files()\n",
        "\n",
        "        if split in ['train', 'val'] and 'train' in img_dir.lower():\n",
        "            train_data, val_data = train_test_split(\n",
        "                list(zip(self.img_paths, self.img_labels)),\n",
        "                train_size=train_ratio,\n",
        "                random_state=random_state,\n",
        "                stratify=self.img_labels\n",
        "            )\n",
        "\n",
        "            if split == 'train':\n",
        "                self.img_paths, self.img_labels = zip(*train_data)\n",
        "            elif split == 'val':\n",
        "                self.img_paths, self.img_labels = zip(*val_data)\n",
        "\n",
        "    def read_img_files(self):\n",
        "        img_paths = []\n",
        "        img_labels = []\n",
        "        for cls in self.label2idx.keys():\n",
        "            for img in os.listdir(os.path.join(self.img_dir, cls)):\n",
        "                img_paths.append(os.path.join(self.img_dir, cls, img))\n",
        "                img_labels.append(cls)\n",
        "\n",
        "        return img_paths, img_labels\n",
        "\n",
        "    def __len__(self):\n",
        "        return len(self.img_paths)\n",
        "\n",
        "    def __getitem__(self, idx):\n",
        "        img_path = self.img_paths[idx]\n",
        "        cls = self.img_labels[idx]\n",
        "        img = self.resize(read_image(img_path))\n",
        "        img = img.type(torch.float32)\n",
        "        label = self.label2idx[cls]\n",
        "        if self.norm:\n",
        "            img = (img/127.5) - 1\n",
        "        return img, label\n",
        "\n",
        "batch_size = 256\n",
        "\n",
        "train_dataset = ImageDataset(train_dir, True,\n",
        "                           label2idx, split='train')\n",
        "train_loader = DataLoader(train_dataset,\n",
        "                         batch_size=batch_size,\n",
        "                         shuffle=True)\n",
        "\n",
        "val_dataset = ImageDataset(train_dir, True,\n",
        "                         label2idx, split='val')\n",
        "val_loader = DataLoader(val_dataset,\n",
        "                       batch_size=batch_size,\n",
        "                       shuffle=False)\n",
        "\n",
        "test_dataset = ImageDataset(test_dir, True,\n",
        "                          label2idx, split='test')\n",
        "test_loader = DataLoader(test_dataset,\n",
        "                        batch_size=batch_size,\n",
        "                        shuffle=False)"
      ],
      "metadata": {
        "id": "QUQiqJ94tAkN"
      },
      "execution_count": null,
      "outputs": []
    },
    {
      "cell_type": "code",
      "source": [
        "# 6. Build MLP model\n",
        "class MLP(nn.Module):\n",
        "    def __init__(self, input_dims, hidden_dims, output_dims):\n",
        "        super(MLP, self).__init__()\n",
        "        self.linear1 = nn.Linear(input_dims, hidden_dims*4)\n",
        "        self.linear2 = nn.Linear(hidden_dims*4, hidden_dims*2)\n",
        "        self.linear3 = nn.Linear(hidden_dims*2, hidden_dims)\n",
        "        self.output = nn.Linear(hidden_dims, output_dims)\n",
        "\n",
        "    def forward(self, x):\n",
        "        x = nn.Flatten()(x)\n",
        "        x = self.linear1(x)\n",
        "        x = F.relu(x)\n",
        "        x = self.linear2(x)\n",
        "        x = F.relu(x)\n",
        "        x = self.linear3(x)\n",
        "        x = F.relu(x)\n",
        "        out = self.output(x)\n",
        "        return out.squeeze(1)\n",
        "\n",
        "input_dims = img_height * img_width\n",
        "output_dims = len(classes)\n",
        "hidden_dims = 64\n",
        "lr = 1e-2\n",
        "\n",
        "model = MLP(input_dims=input_dims,\n",
        "            hidden_dims=hidden_dims,\n",
        "            output_dims=output_dims).to(device)"
      ],
      "metadata": {
        "id": "1YHZdLqMs-__"
      },
      "execution_count": null,
      "outputs": []
    },
    {
      "cell_type": "code",
      "source": [
        "# 7. Define loss function and optimizer\n",
        "criterion = nn.CrossEntropyLoss()\n",
        "optimizer = torch.optim.SGD(model.parameters(), lr=lr)"
      ],
      "metadata": {
        "id": "iHXMz1jZs9WC"
      },
      "execution_count": null,
      "outputs": []
    },
    {
      "cell_type": "code",
      "source": [
        "# 8. Build accuracy computation function\n",
        "def compute_accuracy(y_hat, y_true):\n",
        "    _, y_hat = torch.max(y_hat, dim=1)\n",
        "    correct = (y_hat == y_true).sum().item()\n",
        "    accuracy = correct / len(y_true)\n",
        "    return accuracy"
      ],
      "metadata": {
        "id": "XrTwXY12s8Ep"
      },
      "execution_count": null,
      "outputs": []
    },
    {
      "cell_type": "code",
      "source": [
        "# 9. Train model\n",
        "epochs = 40\n",
        "train_losses = []\n",
        "val_losses = []\n",
        "train_accs = []\n",
        "val_accs = []\n",
        "\n",
        "for epoch in range(epochs):\n",
        "    train_loss = 0.0\n",
        "    train_target = []\n",
        "    train_predict = []\n",
        "    model.train()\n",
        "    for X_samples, y_samples in train_loader:\n",
        "        X_samples = X_samples.to(device)\n",
        "        y_samples = y_samples.to(device)\n",
        "        optimizer.zero_grad()\n",
        "        outputs = model(X_samples)\n",
        "        loss = criterion(outputs, y_samples)\n",
        "        loss.backward()\n",
        "        optimizer.step()\n",
        "        train_loss += loss.item()\n",
        "\n",
        "        train_predict.append(outputs.detach().cpu())\n",
        "        train_target.append(y_samples.cpu())\n",
        "\n",
        "    train_loss /= len(train_loader)\n",
        "    train_losses.append(train_loss)\n",
        "\n",
        "    train_predict = torch.cat(train_predict)\n",
        "    train_target = torch.cat(train_target)\n",
        "    train_acc = compute_accuracy(train_predict, train_target)\n",
        "    train_accs.append(train_acc)\n",
        "\n",
        "    val_loss = 0.0\n",
        "    val_target = []\n",
        "    val_predict = []\n",
        "    model.eval()\n",
        "    with torch.no_grad():\n",
        "        for X_samples, y_samples in val_loader:\n",
        "            X_samples = X_samples.to(device)\n",
        "            y_samples = y_samples.to(device)\n",
        "            outputs = model(X_samples)\n",
        "            val_loss += criterion(outputs, y_samples).item()\n",
        "\n",
        "            val_predict.append(outputs.cpu())\n",
        "            val_target.append(y_samples.cpu())\n",
        "\n",
        "        val_loss /= len(val_loader)\n",
        "        val_losses.append(val_loss)\n",
        "\n",
        "        val_predict = torch.cat(val_predict)\n",
        "        val_target = torch.cat(val_target)\n",
        "        val_acc = compute_accuracy(val_predict, val_target)\n",
        "        val_accs.append(val_acc)\n",
        "\n",
        "    print(f'\\nEPOCH {epoch + 1}:\\tTraining loss: {train_loss:.3f}\\tValidation loss: {val_loss:.3f}')"
      ],
      "metadata": {
        "id": "ia3tJTYfs6xC"
      },
      "execution_count": null,
      "outputs": []
    },
    {
      "cell_type": "code",
      "source": [
        "# 10. Evaluate model\n",
        "test_target = []\n",
        "test_predict = []\n",
        "model.eval()\n",
        "with torch.no_grad():\n",
        "    for X_samples, y_samples in test_loader:\n",
        "        X_samples = X_samples.to(device)\n",
        "        y_samples = y_samples.to(device)\n",
        "        outputs = model(X_samples)\n",
        "\n",
        "        test_predict.append(outputs.cpu())\n",
        "        test_target.append(y_samples.cpu())\n",
        "\n",
        "    test_predict = torch.cat(test_predict)\n",
        "    test_target = torch.cat(test_target)\n",
        "    val_acc = compute_accuracy(test_predict, test_target)\n",
        "\n",
        "    print('Evaluation on test set:')\n",
        "    print(f'Accuracy: {val_acc}')"
      ],
      "metadata": {
        "id": "SfeYmp46s4VR"
      },
      "execution_count": null,
      "outputs": []
    }
  ]
}