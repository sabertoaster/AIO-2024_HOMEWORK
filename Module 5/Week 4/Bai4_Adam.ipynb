{
 "nbformat": 4,
 "nbformat_minor": 0,
 "metadata": {
  "colab": {
   "provenance": [],
   "toc_visible": true
  },
  "kernelspec": {
   "name": "python3",
   "display_name": "Python 3 (ipykernel)",
   "language": "python"
  },
  "language_info": {
   "name": "python"
  }
 },
 "cells": [
  {
   "cell_type": "markdown",
   "source": [
    "## Problem"
   ],
   "metadata": {
    "id": "PDZxOtCZt5VU"
   }
  },
  {
   "cell_type": "markdown",
   "source": [
    "$$f(w_1, w_2) = 0.1w_1^2 + 2w_2^2 \\;\\;\\;\\;\\;\\;\\;(1)$$"
   ],
   "metadata": {
    "id": "Z7esFCIXuNXS"
   }
  },
  {
   "cell_type": "code",
   "source": [
    "import numpy as np\n",
    "from scipy.linalg import sqrtm"
   ],
   "metadata": {
    "id": "_IAVg99F9N0y",
    "ExecuteTime": {
     "end_time": "2024-11-22T12:30:31.317957Z",
     "start_time": "2024-11-22T12:30:31.313071Z"
    }
   },
   "outputs": [],
   "execution_count": 23
  },
  {
   "cell_type": "markdown",
   "source": [
    "### Adam"
   ],
   "metadata": {
    "id": "77XQZxMK2l4x"
   }
  },
  {
   "cell_type": "code",
   "source": [
    "def df_w(W):\n",
    "    \"\"\"\n",
    "    Thực hiện tính gradient của dw1 và dw2\n",
    "    Arguments:\n",
    "    W -- np.array [w1, w2]\n",
    "    Returns:\n",
    "    dW -- np.array [dw1, dw2], array chứa giá trị đạo hàm theo w1 và w2\n",
    "    \"\"\"\n",
    "    #################### YOUR CODE HERE ####################\n",
    "\n",
    "\n",
    "    dW = np.array([0.1 * 2 * W[0], 2 * 2 * W[1]]) \n",
    "    ########################################################\n",
    "\n",
    "    return dW"
   ],
   "metadata": {
    "id": "uai1hzbWuNaK",
    "ExecuteTime": {
     "end_time": "2024-11-22T12:30:31.340728Z",
     "start_time": "2024-11-22T12:30:31.334326Z"
    }
   },
   "outputs": [],
   "execution_count": 24
  },
  {
   "cell_type": "code",
   "source": [
    "def Adam(W, dW, lr, V, S, beta1, beta2, t):\n",
    "    \"\"\"\n",
    "    Thực hiện thuật tóan Adam để update w1 và w2\n",
    "    Arguments:\n",
    "    W -- np.array: [w1, w2]\n",
    "    dW -- np.array: [dw1, dw2], array chứa giá trị đạo hàm theo w1 và w2\n",
    "    lr -- float: learning rate\n",
    "    V -- np.array: [v1, v2] Exponentially weighted averages gradients\n",
    "    S -- np.array: [s1, s2] Exponentially weighted averages bình phương gradients\n",
    "    beta1 -- float: hệ số long-range average cho V\n",
    "    beta2 -- float: hệ số long-range average cho S\n",
    "    t -- int: lần thứ t update (bắt đầu bằng 1)\n",
    "    Returns:\n",
    "    W -- np.array: [w1, w2] w1 và w2 sau khi đã update\n",
    "    V -- np.array: [v1, v2] Exponentially weighted averages gradients sau khi đã cập nhật\n",
    "    S -- np.array: [s1, s2] Exponentially weighted averages bình phương gradients sau khi đã cập nhật\n",
    "    \"\"\"\n",
    "    epsilon = 1e-6\n",
    "    #################### YOUR CODE HERE ####################\n",
    "    V = beta1 * V + (1 - beta1) * dW\n",
    "    S = beta2 * S + (1 - beta2) * dW**2\n",
    "    \n",
    "    # Bias correction \n",
    "    V_corr = V / (1 - beta1**t)\n",
    "    S_corr = S / (1 - beta2**t)\n",
    "    W = W - lr * V_corr / (np.sqrt(S_corr) + epsilon)\n",
    "    ########################################################\n",
    "    return W, V, S"
   ],
   "metadata": {
    "id": "d9HnD57lC1X1",
    "ExecuteTime": {
     "end_time": "2024-11-22T12:30:31.363670Z",
     "start_time": "2024-11-22T12:30:31.356485Z"
    }
   },
   "outputs": [],
   "execution_count": 25
  },
  {
   "cell_type": "code",
   "source": [
    "def train_p1(optimizer, lr, epochs):\n",
    "    \"\"\"\n",
    "    Thực hiện tìm điểm minimum của function (1) dựa vào thuật toán\n",
    "    được truyền vào từ optimizer\n",
    "    Arguments:\n",
    "    optimize : function thực hiện thuật toán optimization cụ thể\n",
    "    lr -- float: learning rate\n",
    "    epochs -- int: số lượng lần (epoch) lặp để tìm điểm minimum\n",
    "    Returns:\n",
    "    results -- list: list các cặp điểm [w1, w2] sau mỗi epoch (mỗi lần cập nhật)\n",
    "    \"\"\"\n",
    "    # initial\n",
    "    W = np.array([-5, -2], dtype=np.float32)\n",
    "    V = np.array([0, 0], dtype=np.float32)\n",
    "    S = np.array([0, 0], dtype=np.float32)\n",
    "    results = [W]\n",
    "    #################### YOUR CODE HERE ####################\n",
    "    # Tạo vòng lặp theo số lần epochs\n",
    "    # tìm gradient dW gồm dw1 và dw2\n",
    "    # dùng thuật toán optimization cập nhật w1, w2, s1, s2, v1, v2\n",
    "    # append cặp [w1, w2] vào list results\n",
    "    # các bạn lưu ý mỗi lần lặp nhớ lấy t (lần thứ t lặp) và t bất đầu bằng 1\n",
    "    for i in range(1, epochs + 1):\n",
    "        W, V, S = optimizer(W, df_w(W), lr, V, S, 0.5, 0.1, i)\n",
    "        results.append(W)\n",
    "\n",
    "    ########################################################\n",
    "    return results"
   ],
   "metadata": {
    "id": "DSux416mEjYy",
    "ExecuteTime": {
     "end_time": "2024-11-22T12:30:31.384066Z",
     "start_time": "2024-11-22T12:30:31.376475Z"
    }
   },
   "outputs": [],
   "execution_count": 26
  },
  {
   "cell_type": "code",
   "source": [
    "train_p1(Adam, lr=0.2, epochs=30)"
   ],
   "metadata": {
    "id": "uwBvH3HeEjUL",
    "ExecuteTime": {
     "end_time": "2024-11-22T12:30:31.414279Z",
     "start_time": "2024-11-22T12:30:31.398839Z"
    }
   },
   "outputs": [
    {
     "data": {
      "text/plain": [
       "[array([-5., -2.], dtype=float32),\n",
       " array([-4.8000002 , -1.80000002]),\n",
       " array([-4.59800221, -1.59476931]),\n",
       " array([-4.3939846 , -1.38328769]),\n",
       " array([-4.18828855, -1.16513896]),\n",
       " array([-3.9812533 , -0.93945416]),\n",
       " array([-3.77313012, -0.70405959]),\n",
       " array([-3.56407831, -0.45367693]),\n",
       " array([-3.35417917, -0.1732399 ]),\n",
       " array([-3.14345134,  0.2069591 ]),\n",
       " array([-2.93186243,  0.31295868]),\n",
       " array([-2.71933549,  0.24639983]),\n",
       " array([-2.50574983,  0.10886097]),\n",
       " array([-2.2909359, -0.1075964]),\n",
       " array([-2.07466269, -0.13822808]),\n",
       " array([-1.85661489, -0.04877582]),\n",
       " array([-1.63635299,  0.12468409]),\n",
       " array([-1.41324252,  0.06636704]),\n",
       " array([-1.18632104, -0.07150599]),\n",
       " array([-0.95402484, -0.0424527 ]),\n",
       " array([-0.7135524 ,  0.07193538]),\n",
       " array([-0.45907637,  0.00674052]),\n",
       " array([-0.1749394 , -0.12160332]),\n",
       " array([ 0.2100285 , -0.02915919]),\n",
       " array([0.31816748, 0.15100296]),\n",
       " array([0.25232383, 0.07480872]),\n",
       " array([ 0.11537667, -0.07896558]),\n",
       " array([-0.09865604, -0.06119088]),\n",
       " array([-0.14479212,  0.04670433]),\n",
       " array([-0.05907899,  0.02083697]),\n",
       " array([ 0.10779977, -0.08747881])]"
      ]
     },
     "execution_count": 27,
     "metadata": {},
     "output_type": "execute_result"
    }
   ],
   "execution_count": 27
  }
 ]
}
