{
 "nbformat": 4,
 "nbformat_minor": 0,
 "metadata": {
  "colab": {
   "provenance": [],
   "toc_visible": true
  },
  "kernelspec": {
   "name": "python3",
   "display_name": "Python 3 (ipykernel)",
   "language": "python"
  },
  "language_info": {
   "name": "python"
  }
 },
 "cells": [
  {
   "cell_type": "markdown",
   "source": [
    "## Problem"
   ],
   "metadata": {
    "id": "PDZxOtCZt5VU"
   }
  },
  {
   "cell_type": "markdown",
   "source": [
    "$$f(w_1, w_2) = 0.1w_1^2 + 2w_2^2 \\;\\;\\;\\;\\;\\;\\;(1)$$"
   ],
   "metadata": {
    "id": "Z7esFCIXuNXS"
   }
  },
  {
   "cell_type": "code",
   "source": [
    "import numpy as np"
   ],
   "metadata": {
    "id": "_IAVg99F9N0y",
    "ExecuteTime": {
     "end_time": "2024-11-22T12:14:28.392295Z",
     "start_time": "2024-11-22T12:14:28.143887Z"
    }
   },
   "outputs": [],
   "execution_count": 1
  },
  {
   "cell_type": "markdown",
   "source": [
    "### RMSprop"
   ],
   "metadata": {
    "id": "HXAY82X82mDx"
   }
  },
  {
   "cell_type": "code",
   "source": [
    "def df_w(W):\n",
    "    \"\"\"\n",
    "    Thực hiện tính gradient của dw1 và dw2\n",
    "    Arguments:\n",
    "    W -- np.array [w1, w2]\n",
    "    Returns:\n",
    "    dW -- np.array [dw1, dw2], array chứa giá trị đạo hàm theo w1 và w2\n",
    "    \"\"\"\n",
    "    #################### YOUR CODE HERE ####################\n",
    "\n",
    "\n",
    "    dW = np.array([0.1 * 2 * W[0], 2 * 2 * W[1]]) \n",
    "    ########################################################\n",
    "\n",
    "    return dW"
   ],
   "metadata": {
    "id": "uai1hzbWuNaK",
    "ExecuteTime": {
     "end_time": "2024-11-22T12:14:28.412321Z",
     "start_time": "2024-11-22T12:14:28.402507Z"
    }
   },
   "outputs": [],
   "execution_count": 2
  },
  {
   "cell_type": "code",
   "source": [
    "def RMSProp(W, dW, lr, S, gamma):\n",
    "    \"\"\"\n",
    "    Thực hiện thuật tóan RMSProp để update w1 và w2\n",
    "    Arguments:\n",
    "    W -- np.array: [w1, w2]\n",
    "    dW -- np.array: [dw1, dw2], array chứa giá trị đạo hàm theo w1 và w2\n",
    "    lr -- float: learning rate\n",
    "    S -- np.array: [s1, s2] Exponentially weighted averages bình phương gradients\n",
    "    gamma -- float: hệ số long-range average\n",
    "    Returns:\n",
    "    W -- np.array: [w1, w2] w1 và w2 sau khi đã update\n",
    "    S -- np.array: [s1, s2] Exponentially weighted averages bình phương gradients sau khi đã cập nhật\n",
    "    \"\"\"\n",
    "    epsilon = 1e-6\n",
    "    #################### YOUR CODE HERE ####################\n",
    "\n",
    "    S = gamma * S + (1 - gamma) * dW**2\n",
    "\n",
    "    W = W - lr * dW / np.sqrt(S + epsilon)\n",
    "    ########################################################\n",
    "    return W, S"
   ],
   "metadata": {
    "id": "ws1QcU-o3NPi",
    "ExecuteTime": {
     "end_time": "2024-11-22T12:14:28.565688Z",
     "start_time": "2024-11-22T12:14:28.557825Z"
    }
   },
   "outputs": [],
   "execution_count": 3
  },
  {
   "cell_type": "code",
   "source": [
    "def train_p1(optimizer, lr, epochs):\n",
    "    \"\"\"\n",
    "    Thực hiện tìm điểm minimum của function (1) dựa vào thuật toán\n",
    "    được truyền vào từ optimizer\n",
    "    Arguments:\n",
    "    optimize : function thực hiện thuật toán optimization cụ thể\n",
    "    lr -- float: learning rate\n",
    "    epochs -- int: số lượng lần (epoch) lặp để tìm điểm minimum\n",
    "    Returns:\n",
    "    results -- list: list các cặp điểm [w1, w2] sau mỗi epoch (mỗi lần cập nhật)\n",
    "    \"\"\"\n",
    "    # initial\n",
    "    W = np.array([-5, -2], dtype=np.float32)\n",
    "    S = np.array([0, 0], dtype=np.float32)\n",
    "    results = [W]\n",
    "    #################### YOUR CODE HERE ####################\n",
    "    # Tạo vòng lặp theo số lần epochs\n",
    "    # tìm gradient dW gồm dw1 và dw2\n",
    "    # dùng thuật toán optimization cập nhật w1, w2, s1, s2\n",
    "    # append cặp [w1, w2] vào list results\n",
    "    for i in range(epochs):\n",
    "        W, V = optimizer(W, df_w(W), lr, S, 0.1)\n",
    "        results.append(W)\n",
    "\n",
    "    ########################################################\n",
    "    return results"
   ],
   "metadata": {
    "id": "QA_czueo4bz2",
    "ExecuteTime": {
     "end_time": "2024-11-22T12:18:47.782592Z",
     "start_time": "2024-11-22T12:18:47.771548Z"
    }
   },
   "outputs": [],
   "execution_count": 18
  },
  {
   "cell_type": "code",
   "source": [
    "train_p1(RMSProp, lr=0.3, epochs=30)"
   ],
   "metadata": {
    "id": "eGVlk8pi4kM5",
    "ExecuteTime": {
     "end_time": "2024-11-22T12:18:48.012729Z",
     "start_time": "2024-11-22T12:18:48.000239Z"
    }
   },
   "outputs": [
    {
     "data": {
      "text/plain": [
       "[array([-5., -2.], dtype=float32),\n",
       " array([-4.68377241, -1.68377224]),\n",
       " array([-4.36754484, -1.36754447]),\n",
       " array([-4.05131731, -1.05131671]),\n",
       " array([-3.73508981, -0.73508896]),\n",
       " array([-3.41886236, -0.41886121]),\n",
       " array([-3.10263497, -0.10263351]),\n",
       " array([-2.78640766,  0.21359321]),\n",
       " array([-2.47018046, -0.10263431]),\n",
       " array([-2.15395341,  0.21359241]),\n",
       " array([-1.83772659, -0.10263511]),\n",
       " array([-1.52150013,  0.21359161]),\n",
       " array([-1.20527426, -0.10263591]),\n",
       " array([-0.88904952,  0.21359081]),\n",
       " array([-0.57282731, -0.10263672]),\n",
       " array([-0.25661292,  0.21359001]),\n",
       " array([ 0.05954817, -0.10263752]),\n",
       " array([-0.25544823,  0.21358921]),\n",
       " array([ 0.06071225, -0.10263832]),\n",
       " array([-0.25433065,  0.2135884 ]),\n",
       " array([ 0.06182923, -0.10263912]),\n",
       " array([-0.25325586,  0.2135876 ]),\n",
       " array([ 0.06290345, -0.10263992]),\n",
       " array([-0.25222014,  0.2135868 ]),\n",
       " array([ 0.06393861, -0.10264072]),\n",
       " array([-0.25122026,  0.213586  ]),\n",
       " array([ 0.06493794, -0.10264153]),\n",
       " array([-0.25025342,  0.2135852 ]),\n",
       " array([ 0.06590424, -0.10264233]),\n",
       " array([-0.24931714,  0.2135844 ]),\n",
       " array([ 0.06683999, -0.10264313])]"
      ]
     },
     "execution_count": 19,
     "metadata": {},
     "output_type": "execute_result"
    }
   ],
   "execution_count": 19
  },
  {
   "metadata": {},
   "cell_type": "code",
   "outputs": [],
   "execution_count": null,
   "source": ""
  }
 ]
}
