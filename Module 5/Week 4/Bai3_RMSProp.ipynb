{
 "nbformat": 4,
 "nbformat_minor": 0,
 "metadata": {
  "colab": {
   "provenance": [],
   "toc_visible": true
  },
  "kernelspec": {
   "name": "python3",
   "display_name": "Python 3 (ipykernel)",
   "language": "python"
  },
  "language_info": {
   "name": "python"
  }
 },
 "cells": [
  {
   "cell_type": "markdown",
   "source": [
    "## Problem"
   ],
   "metadata": {
    "id": "PDZxOtCZt5VU"
   }
  },
  {
   "cell_type": "markdown",
   "source": [
    "$$f(w_1, w_2) = 0.1w_1^2 + 2w_2^2 \\;\\;\\;\\;\\;\\;\\;(1)$$"
   ],
   "metadata": {
    "id": "Z7esFCIXuNXS"
   }
  },
  {
   "cell_type": "code",
   "source": [
    "import numpy as np"
   ],
   "metadata": {
    "id": "_IAVg99F9N0y",
    "ExecuteTime": {
     "end_time": "2024-11-22T12:41:12.819079Z",
     "start_time": "2024-11-22T12:41:12.813570Z"
    }
   },
   "outputs": [],
   "execution_count": 25
  },
  {
   "cell_type": "markdown",
   "source": [
    "### RMSprop"
   ],
   "metadata": {
    "id": "HXAY82X82mDx"
   }
  },
  {
   "cell_type": "code",
   "source": [
    "def df_w(W):\n",
    "    \"\"\"\n",
    "    Thực hiện tính gradient của dw1 và dw2\n",
    "    Arguments:\n",
    "    W -- np.array [w1, w2]\n",
    "    Returns:\n",
    "    dW -- np.array [dw1, dw2], array chứa giá trị đạo hàm theo w1 và w2\n",
    "    \"\"\"\n",
    "    #################### YOUR CODE HERE ####################\n",
    "\n",
    "\n",
    "    dW = np.array([0.1 * 2 * W[0], 2 * 2 * W[1]]) \n",
    "    ########################################################\n",
    "\n",
    "    return dW"
   ],
   "metadata": {
    "id": "uai1hzbWuNaK",
    "ExecuteTime": {
     "end_time": "2024-11-22T12:41:12.869102Z",
     "start_time": "2024-11-22T12:41:12.862373Z"
    }
   },
   "outputs": [],
   "execution_count": 26
  },
  {
   "cell_type": "code",
   "source": [
    "def RMSProp(W, dW, lr, S, gamma):\n",
    "    \"\"\"\n",
    "    Thực hiện thuật tóan RMSProp để update w1 và w2\n",
    "    Arguments:\n",
    "    W -- np.array: [w1, w2]\n",
    "    dW -- np.array: [dw1, dw2], array chứa giá trị đạo hàm theo w1 và w2\n",
    "    lr -- float: learning rate\n",
    "    S -- np.array: [s1, s2] Exponentially weighted averages bình phương gradients\n",
    "    gamma -- float: hệ số long-range average\n",
    "    Returns:\n",
    "    W -- np.array: [w1, w2] w1 và w2 sau khi đã update\n",
    "    S -- np.array: [s1, s2] Exponentially weighted averages bình phương gradients sau khi đã cập nhật\n",
    "    \"\"\"\n",
    "    epsilon = 1e-6\n",
    "    #################### YOUR CODE HERE ####################\n",
    "\n",
    "    S = gamma * S + (1 - gamma) * np.power(dW, 2)\n",
    "\n",
    "    W = W - lr * dW / np.sqrt(S + epsilon)\n",
    "    ########################################################\n",
    "    return W, S"
   ],
   "metadata": {
    "id": "ws1QcU-o3NPi",
    "ExecuteTime": {
     "end_time": "2024-11-22T12:41:12.897466Z",
     "start_time": "2024-11-22T12:41:12.889354Z"
    }
   },
   "outputs": [],
   "execution_count": 27
  },
  {
   "cell_type": "code",
   "source": [
    "def train_p1(optimizer, lr, epochs):\n",
    "    \"\"\"\n",
    "    Thực hiện tìm điểm minimum của function (1) dựa vào thuật toán\n",
    "    được truyền vào từ optimizer\n",
    "    Arguments:\n",
    "    optimize : function thực hiện thuật toán optimization cụ thể\n",
    "    lr -- float: learning rate\n",
    "    epochs -- int: số lượng lần (epoch) lặp để tìm điểm minimum\n",
    "    Returns:\n",
    "    results -- list: list các cặp điểm [w1, w2] sau mỗi epoch (mỗi lần cập nhật)\n",
    "    \"\"\"\n",
    "    # initial\n",
    "    W = np.array([-5, -2], dtype=np.float32)\n",
    "    S = np.array([0, 0], dtype=np.float32)\n",
    "    results = [W]\n",
    "    #################### YOUR CODE HERE ####################\n",
    "    # Tạo vòng lặp theo số lần epochs\n",
    "    # tìm gradient dW gồm dw1 và dw2\n",
    "    # dùng thuật toán optimization cập nhật w1, w2, s1, s2\n",
    "    # append cặp [w1, w2] vào list results\n",
    "    for i in range(epochs):\n",
    "        W, V = optimizer(W, df_w(W), lr, S, 0.9)\n",
    "        results.append(W)\n",
    "\n",
    "    ########################################################\n",
    "    return results"
   ],
   "metadata": {
    "id": "QA_czueo4bz2",
    "ExecuteTime": {
     "end_time": "2024-11-22T12:41:12.926170Z",
     "start_time": "2024-11-22T12:41:12.917933Z"
    }
   },
   "outputs": [],
   "execution_count": 28
  },
  {
   "cell_type": "code",
   "source": [
    "train_p1(RMSProp, lr=0.3, epochs=30)"
   ],
   "metadata": {
    "id": "eGVlk8pi4kM5",
    "ExecuteTime": {
     "end_time": "2024-11-22T12:41:12.960931Z",
     "start_time": "2024-11-22T12:41:12.944997Z"
    }
   },
   "outputs": [
    {
     "data": {
      "text/plain": [
       "[array([-5., -2.], dtype=float32),\n",
       " array([-4.05132145, -1.05131678]),\n",
       " array([-3.10264537, -0.10263375]),\n",
       " array([-2.15397439,  0.84602141]),\n",
       " array([-1.20531665, -0.10266148]),\n",
       " array([-0.25671497,  0.8459937 ]),\n",
       " array([ 0.69017403, -0.10268919]),\n",
       " array([-0.25826042,  0.845966  ]),\n",
       " array([ 0.68864993, -0.10271689]),\n",
       " array([-0.25978341,  0.84593831]),\n",
       " array([ 0.6871476 , -0.10274457]),\n",
       " array([-0.26128465,  0.84591065]),\n",
       " array([ 0.68566639, -0.10277224]),\n",
       " array([-0.26276477,  0.84588299]),\n",
       " array([ 0.68420568, -0.10279989]),\n",
       " array([-0.26422441,  0.84585535]),\n",
       " array([ 0.68276486, -0.10282753]),\n",
       " array([-0.26566416,  0.84582773]),\n",
       " array([ 0.68134337, -0.10285515]),\n",
       " array([-0.26708458,  0.84580012]),\n",
       " array([ 0.67994068, -0.10288276]),\n",
       " array([-0.26848622,  0.84577253]),\n",
       " array([ 0.67855626, -0.10291035]),\n",
       " array([-0.26986959,  0.84574495]),\n",
       " array([ 0.67718963, -0.10293793]),\n",
       " array([-0.27123519,  0.84571739]),\n",
       " array([ 0.67584031, -0.10296549]),\n",
       " array([-0.27258348,  0.84568984]),\n",
       " array([ 0.67450784, -0.10299304]),\n",
       " array([-0.27391492,  0.84566231]),\n",
       " array([ 0.6731918 , -0.10302057])]"
      ]
     },
     "execution_count": 29,
     "metadata": {},
     "output_type": "execute_result"
    }
   ],
   "execution_count": 29
  },
  {
   "metadata": {
    "ExecuteTime": {
     "end_time": "2024-11-22T12:41:13.000996Z",
     "start_time": "2024-11-22T12:41:12.996246Z"
    }
   },
   "cell_type": "code",
   "source": "",
   "outputs": [],
   "execution_count": null
  }
 ]
}
