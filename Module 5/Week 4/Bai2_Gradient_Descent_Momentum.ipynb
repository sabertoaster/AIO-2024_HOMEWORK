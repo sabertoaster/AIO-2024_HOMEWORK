{
 "cells": [
  {
   "cell_type": "markdown",
   "metadata": {
    "id": "PDZxOtCZt5VU"
   },
   "source": [
    "## Problem"
   ]
  },
  {
   "cell_type": "markdown",
   "metadata": {
    "id": "Z7esFCIXuNXS"
   },
   "source": [
    "$$f(w_1, w_2) = 0.1w_1^2 + 2w_2^2 \\;\\;\\;\\;\\;\\;\\;(1)$$"
   ]
  },
  {
   "cell_type": "code",
   "metadata": {
    "id": "_IAVg99F9N0y",
    "ExecuteTime": {
     "end_time": "2024-11-22T12:04:50.458131Z",
     "start_time": "2024-11-22T12:04:50.262447Z"
    }
   },
   "source": [
    "import numpy as np"
   ],
   "outputs": [],
   "execution_count": 1
  },
  {
   "cell_type": "markdown",
   "metadata": {
    "id": "lBLBMN8zE6Bj"
   },
   "source": [
    "### Momentum"
   ]
  },
  {
   "cell_type": "code",
   "metadata": {
    "id": "uai1hzbWuNaK",
    "ExecuteTime": {
     "end_time": "2024-11-22T12:04:50.482838Z",
     "start_time": "2024-11-22T12:04:50.476769Z"
    }
   },
   "source": [
    "def df_w(W):\n",
    "    \"\"\"\n",
    "    Thực hiện tính gradient của dw1 và dw2\n",
    "    Arguments:\n",
    "    W -- np.array [w1, w2]\n",
    "    Returns:\n",
    "    dW -- np.array [dw1, dw2], array chứa giá trị đạo hàm theo w1 và w2\n",
    "    \"\"\"\n",
    "    #################### YOUR CODE HERE ####################\n",
    "\n",
    "    dW = np.array([0.1 * 2 * W[0], 2 * 2 * W[1]]) \n",
    "    return dW"
   ],
   "outputs": [],
   "execution_count": 2
  },
  {
   "cell_type": "code",
   "metadata": {
    "id": "faIqYpr4E57r",
    "ExecuteTime": {
     "end_time": "2024-11-22T12:04:50.499259Z",
     "start_time": "2024-11-22T12:04:50.491685Z"
    }
   },
   "source": [
    "def sgd_momentum(W, dW, lr, V, beta):\n",
    "    \"\"\"\n",
    "    Thực hiện thuật tóan Gradient Descent + Momentum để update w1 và w2\n",
    "    Arguments:\n",
    "    W -- np.array: [w1, w2]\n",
    "    dW -- np.array: [dw1, dw2], array chứa giá trị đạo hàm theo w1 và w2\n",
    "    lr -- float: learning rate\n",
    "    V -- np.array: [v1, v2] Exponentially weighted averages gradients\n",
    "    beta -- float: hệ số long-range average\n",
    "    Returns:\n",
    "    W -- np.array: [w1, w2] w1 và w2 sau khi đã update\n",
    "    V -- np.array: [v1, v2] Exponentially weighted averages gradients sau khi đã cập nhật\n",
    "    \"\"\"\n",
    "    #################### YOUR CODE HERE ####################\n",
    "\n",
    "    V = beta * V + (1 - beta) * dW\n",
    "    W = W - lr * V\n",
    "    ########################################################\n",
    "    return W, V"
   ],
   "outputs": [],
   "execution_count": 3
  },
  {
   "cell_type": "code",
   "metadata": {
    "id": "J1L9O5rNGPZ1",
    "ExecuteTime": {
     "end_time": "2024-11-22T12:04:50.516499Z",
     "start_time": "2024-11-22T12:04:50.507470Z"
    }
   },
   "source": [
    "def train_p1(optimizer, lr, epochs):\n",
    "    \"\"\"\n",
    "    Thực hiện tìm điểm minimum của function (1) dựa vào thuật toán\n",
    "    được truyền vào từ optimizer\n",
    "    Arguments:\n",
    "    optimize : function thực hiện thuật toán optimization cụ thể\n",
    "    lr -- float: learning rate\n",
    "    epochs -- int: số lượng lần (epoch) lặp để tìm điểm minimum\n",
    "    Returns:\n",
    "    results -- list: list các cặp điểm [w1, w2] sau mỗi epoch (mỗi lần cập nhật)\n",
    "    \"\"\"\n",
    "    # initial\n",
    "    W = np.array([-5, -2], dtype=np.float32)\n",
    "    V = np.array([0, 0], dtype=np.float32)\n",
    "    results = [W]\n",
    "    #################### YOUR CODE HERE ####################\n",
    "    # Tạo vòng lặp theo số lần epochs\n",
    "    # tìm gradient dW gồm dw1 và dw2\n",
    "    # dùng thuật toán optimization cập nhật w1, w2, v1, v2\n",
    "    # append cặp [w1, w2] vào list results\n",
    "    for i in range(epochs):\n",
    "        W, V = optimizer(W, df_w(W), lr, V, 0.5)\n",
    "        results.append(W)\n",
    "\n",
    "    ########################################################\n",
    "    return results"
   ],
   "outputs": [],
   "execution_count": 4
  },
  {
   "cell_type": "code",
   "execution_count": null,
   "metadata": {
    "colab": {
     "base_uri": "https://localhost:8080/"
    },
    "executionInfo": {
     "elapsed": 6,
     "status": "ok",
     "timestamp": 1669969106575,
     "user": {
      "displayName": "huyu nguyen",
      "userId": "09509650119716865009"
     },
     "user_tz": -420
    },
    "id": "z0AxyO3mGJB8",
    "outputId": "8659b8d3-3d1c-44b5-c6fc-bfc990b9bf62"
   },
   "outputs": [
    {
     "data": {
      "text/plain": [
       "[array([-5., -2.], dtype=float32),\n",
       " array([-4.7,  0.4]),\n",
       " array([-4.268,  1.12 ]),\n",
       " array([-3.79592,  0.136  ]),\n",
       " array([-3.3321248, -0.5192   ]),\n",
       " array([-2.90029971, -0.22376   ]),\n",
       " array([-2.51036919,  0.192472  ]),\n",
       " array([-2.16478177,  0.1696216 ]),\n",
       " array([-1.86210116, -0.04534952]),\n",
       " array([-1.59903478, -0.09841566]),\n",
       " array([-1.37155951, -0.00684994]),\n",
       " array([-1.1755283 ,  0.04715285]),\n",
       " array([-1.006981  ,  0.01757082]),\n",
       " array([-0.86228849, -0.01830518]),\n",
       " array([-0.73820492, -0.01427696]),\n",
       " array([-0.63187084,  0.0048695 ]),\n",
       " array([-0.54079155,  0.00859933]),\n",
       " array([-4.62804416e-01,  1.45050014e-04]),\n",
       " array([-0.39604258, -0.00425615]),\n",
       " array([-0.33889911, -0.00134937]),\n",
       " array([-0.28999343,  0.00172326]),\n",
       " array([-0.24814098,  0.00119166]),\n",
       " array([-0.2123263 , -0.00050413]),\n",
       " array([-0.18167938, -0.00074707]),\n",
       " array([-1.55455157e-01,  2.79448010e-05]),\n",
       " array([-0.13301574,  0.00038192]),\n",
       " array([-1.13815082e-01,  1.00603444e-04]),\n",
       " array([-0.09738585, -0.00016078]),\n",
       " array([-8.33280829e-02, -9.85353344e-05]),\n",
       " array([-7.12995144e-02,  5.08287536e-05]),\n",
       " array([-6.10072592e-02,  6.45162933e-05])]"
      ]
     },
     "execution_count": 15,
     "metadata": {},
     "output_type": "execute_result"
    }
   ],
   "source": [
    "train_p1(sgd_momentum, lr=0.6, epochs=30)"
   ]
  }
 ],
 "metadata": {
  "colab": {
   "provenance": [],
   "toc_visible": true
  },
  "kernelspec": {
   "display_name": "Python 3 (ipykernel)",
   "name": "python3",
   "language": "python"
  },
  "language_info": {
   "name": "python"
  }
 },
 "nbformat": 4,
 "nbformat_minor": 0
}
