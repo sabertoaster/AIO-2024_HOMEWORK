{
 "cells": [
  {
   "metadata": {
    "ExecuteTime": {
     "end_time": "2024-09-16T10:19:42.369086Z",
     "start_time": "2024-09-16T10:19:42.363716Z"
    }
   },
   "cell_type": "code",
   "source": [
    "import numpy as np\n",
    "\n",
    "# Init\n",
    "lambda_, depth, lr = 0, 1, 0.3\n",
    "X = np.array([23, 24, 26, 27])\n",
    "Y = np.array([50, 70, 80, 85])"
   ],
   "id": "d43e33c0d22fd313",
   "outputs": [],
   "execution_count": 30
  },
  {
   "metadata": {
    "ExecuteTime": {
     "end_time": "2024-09-16T10:19:42.761414Z",
     "start_time": "2024-09-16T10:19:42.756014Z"
    }
   },
   "cell_type": "code",
   "source": [
    "# Step 1: Init f0 prediction by mean of Y\n",
    "f0 = np.mean(Y)\n",
    "print(f\"f0 = {f0}\")"
   ],
   "id": "2efc161384726f83",
   "outputs": [
    {
     "name": "stdout",
     "output_type": "stream",
     "text": [
      "f0 = 71.25\n"
     ]
    }
   ],
   "execution_count": 31
  },
  {
   "metadata": {
    "ExecuteTime": {
     "end_time": "2024-09-16T10:19:42.977594Z",
     "start_time": "2024-09-16T10:19:42.970942Z"
    }
   },
   "cell_type": "code",
   "source": [
    "# Step 2: Similarity Score of root\n",
    "residuals = Y - f0\n",
    "root_similarity = (np.sum(residuals) ** 2) / (len(residuals) + lambda_)\n",
    "print(f\"Root Similarity Score: {root_similarity}\")"
   ],
   "id": "501e72a4971d2de9",
   "outputs": [
    {
     "name": "stdout",
     "output_type": "stream",
     "text": [
      "Root Similarity Score: 0.0\n"
     ]
    }
   ],
   "execution_count": 32
  },
  {
   "metadata": {
    "ExecuteTime": {
     "end_time": "2024-09-16T10:19:43.224709Z",
     "start_time": "2024-09-16T10:19:43.216064Z"
    }
   },
   "cell_type": "code",
   "source": [
    "# Step 3-4: Calculate similarity scores for splits and gains\n",
    "splits = [23.5, 25, 26.5]\n",
    "best_gain = -np.inf\n",
    "best_split = None\n",
    "\n",
    "for split in splits:\n",
    "    left_mask = X < split\n",
    "    right_mask = X >= split\n",
    "    \n",
    "    left_residuals = residuals[left_mask]\n",
    "    right_residuals = residuals[right_mask]\n",
    "    \n",
    "    left_similarity = (np.sum(left_residuals) ** 2) / (len(left_residuals) + lambda_)\n",
    "    right_similarity = (np.sum(right_residuals) ** 2) / (len(right_residuals) + lambda_)\n",
    "    \n",
    "    gain = left_similarity + right_similarity - root_similarity\n",
    "    \n",
    "    print(f\"Split {split}:\")\n",
    "    print(f\"  Left Similarity: {left_similarity}\")\n",
    "    print(f\"  Right Similarity: {right_similarity}\")\n",
    "    print(f\"  Gain: {gain}\")\n",
    "    \n",
    "    if gain > best_gain:\n",
    "        best_gain = gain\n",
    "        best_split = split\n",
    "\n",
    "print(f\"\\nBest split: {best_split} with gain: {best_gain}\")"
   ],
   "id": "9b6823db21d0891a",
   "outputs": [
    {
     "name": "stdout",
     "output_type": "stream",
     "text": [
      "Split 23.5:\n",
      "  Left Similarity: 451.5625\n",
      "  Right Similarity: 150.52083333333334\n",
      "  Gain: 602.0833333333334\n",
      "Split 25:\n",
      "  Left Similarity: 253.125\n",
      "  Right Similarity: 253.125\n",
      "  Gain: 506.25\n",
      "Split 26.5:\n",
      "  Left Similarity: 63.020833333333336\n",
      "  Right Similarity: 189.0625\n",
      "  Gain: 252.08333333333334\n",
      "\n",
      "Best split: 23.5 with gain: 602.0833333333334\n"
     ]
    }
   ],
   "execution_count": 33
  },
  {
   "metadata": {
    "ExecuteTime": {
     "end_time": "2024-09-16T10:19:43.494832Z",
     "start_time": "2024-09-16T10:19:43.488644Z"
    }
   },
   "cell_type": "code",
   "source": [
    "# Step 5: Calculate output for each node\n",
    "left_output = np.sum(residuals[X < best_split]) / np.sum(X < best_split)\n",
    "right_output = np.sum(residuals[X >= best_split]) / np.sum(X >= best_split)\n",
    "\n",
    "print(f\"Left node output: {left_output}\")\n",
    "print(f\"Right node output: {right_output}\")"
   ],
   "id": "a1fd95f6e40dcbe3",
   "outputs": [
    {
     "name": "stdout",
     "output_type": "stream",
     "text": [
      "Left node output: -21.25\n",
      "Right node output: 7.083333333333333\n"
     ]
    }
   ],
   "execution_count": 34
  },
  {
   "metadata": {
    "ExecuteTime": {
     "end_time": "2024-09-16T10:19:44.395146Z",
     "start_time": "2024-09-16T10:19:44.390057Z"
    }
   },
   "cell_type": "code",
   "source": [
    "# Step 6: Predict for x = 25\n",
    "x = 25\n",
    "if x < best_split:\n",
    "    prediction = f0 + lr * left_output\n",
    "else:\n",
    "    prediction = f0 + lr * right_output\n",
    "\n",
    "print(f\"Prediction for x = 25: {prediction}\")"
   ],
   "id": "ce43eb98de1c70ab",
   "outputs": [
    {
     "name": "stdout",
     "output_type": "stream",
     "text": [
      "Prediction for x = 25: 73.375\n"
     ]
    }
   ],
   "execution_count": 35
  },
  {
   "metadata": {},
   "cell_type": "code",
   "outputs": [],
   "execution_count": null,
   "source": "",
   "id": "c6ebea882f1e1a86"
  }
 ],
 "metadata": {
  "kernelspec": {
   "display_name": "Python 3",
   "language": "python",
   "name": "python3"
  },
  "language_info": {
   "codemirror_mode": {
    "name": "ipython",
    "version": 2
   },
   "file_extension": ".py",
   "mimetype": "text/x-python",
   "name": "python",
   "nbconvert_exporter": "python",
   "pygments_lexer": "ipython2",
   "version": "2.7.6"
  }
 },
 "nbformat": 4,
 "nbformat_minor": 5
}
