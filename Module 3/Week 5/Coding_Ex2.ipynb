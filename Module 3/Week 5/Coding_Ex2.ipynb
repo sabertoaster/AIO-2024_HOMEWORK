{
 "cells": [
  {
   "metadata": {
    "ExecuteTime": {
     "end_time": "2024-09-19T12:22:31.883577Z",
     "start_time": "2024-09-19T12:22:31.727590Z"
    }
   },
   "cell_type": "code",
   "source": [
    "import numpy as np\n",
    "\n",
    "# Init\n",
    "lambda_, depth, lr = 0, 1, 0.3\n",
    "X = np.array([23, 24, 26, 27])\n",
    "Y = np.array([False, False, True, True])"
   ],
   "id": "493ec5d50609d8ac",
   "outputs": [],
   "execution_count": 1
  },
  {
   "metadata": {
    "ExecuteTime": {
     "end_time": "2024-09-19T12:22:32.317807Z",
     "start_time": "2024-09-19T12:22:32.311111Z"
    }
   },
   "cell_type": "code",
   "source": [
    "# Step 1: Init f0 prediction by mean of Y\n",
    "f0 = 0.5\n",
    "print(f\"f0 = {f0}\")"
   ],
   "id": "13a159aa9feceed2",
   "outputs": [
    {
     "name": "stdout",
     "output_type": "stream",
     "text": [
      "f0 = 0.5\n"
     ]
    }
   ],
   "execution_count": 2
  },
  {
   "metadata": {
    "ExecuteTime": {
     "end_time": "2024-09-19T12:22:33.022525Z",
     "start_time": "2024-09-19T12:22:33.013682Z"
    }
   },
   "cell_type": "code",
   "source": [
    "# Step 2: Similarity Score of root\n",
    "residuals = Y.astype(int) - f0\n",
    "root_similarity = (np.sum(residuals) ** 2) / (f0 * (1 - f0) + lambda_)\n",
    "print(f\"Root Similarity Score: {root_similarity}\")"
   ],
   "id": "40e48d25e7181634",
   "outputs": [
    {
     "name": "stdout",
     "output_type": "stream",
     "text": [
      "Root Similarity Score: 0.0\n"
     ]
    }
   ],
   "execution_count": 3
  },
  {
   "metadata": {
    "ExecuteTime": {
     "end_time": "2024-09-19T12:22:33.247352Z",
     "start_time": "2024-09-19T12:22:33.236120Z"
    }
   },
   "cell_type": "code",
   "source": [
    "# Step 3-4: Calculate similarity scores for splits and gains\n",
    "splits = [23.5, 25, 26.5]\n",
    "best_gain = -np.inf\n",
    "best_split = None\n",
    "\n",
    "for split in splits:\n",
    "    left_mask = X < split\n",
    "    right_mask = X >= split\n",
    "\n",
    "    left_residuals = residuals[left_mask]\n",
    "    right_residuals = residuals[right_mask]\n",
    "\n",
    "    left_similarity = (np.sum(left_residuals) ** 2) / (f0 * (1 - f0) + lambda_)\n",
    "    right_similarity = (np.sum(right_residuals) ** 2) / (f0 * (1 - f0) + lambda_)\n",
    "\n",
    "    gain = left_similarity + right_similarity - root_similarity\n",
    "\n",
    "    print(f\"Split {split}:\")\n",
    "    print(f\"  Left Similarity: {left_similarity}\")\n",
    "    print(f\"  Right Similarity: {right_similarity}\")\n",
    "    print(f\"  Gain: {gain}\")\n",
    "\n",
    "    if gain > best_gain:\n",
    "        best_gain = gain\n",
    "        best_split = split\n",
    "\n",
    "print(f\"\\nBest split: {best_split} with gain: {best_gain}\")"
   ],
   "id": "b0d5b517fd313408",
   "outputs": [
    {
     "name": "stdout",
     "output_type": "stream",
     "text": [
      "Split 23.5:\n",
      "  Left Similarity: 1.0\n",
      "  Right Similarity: 1.0\n",
      "  Gain: 2.0\n",
      "Split 25:\n",
      "  Left Similarity: 4.0\n",
      "  Right Similarity: 4.0\n",
      "  Gain: 8.0\n",
      "Split 26.5:\n",
      "  Left Similarity: 1.0\n",
      "  Right Similarity: 1.0\n",
      "  Gain: 2.0\n",
      "\n",
      "Best split: 25 with gain: 8.0\n"
     ]
    }
   ],
   "execution_count": 4
  },
  {
   "metadata": {
    "ExecuteTime": {
     "end_time": "2024-09-19T12:22:34.566275Z",
     "start_time": "2024-09-19T12:22:34.559055Z"
    }
   },
   "cell_type": "code",
   "source": [
    "# Step 5: Calculate output for each node\n",
    "left_output = np.sum(residuals[X < best_split]) / (f0 * (1 - f0) + lambda_)\n",
    "right_output = np.sum(residuals[X >= best_split]) / (f0 * (1 - f0) + lambda_)\n",
    "\n",
    "print(f\"Left node output: {left_output}\")\n",
    "print(f\"Right node output: {right_output}\")"
   ],
   "id": "d140e1c993f8067e",
   "outputs": [
    {
     "name": "stdout",
     "output_type": "stream",
     "text": [
      "Left node output: -4.0\n",
      "Right node output: 4.0\n"
     ]
    }
   ],
   "execution_count": 5
  },
  {
   "metadata": {},
   "cell_type": "code",
   "source": [
    "# Step 6: Predict for x = 25\n",
    "x = 25\n",
    "if x < best_split:\n",
    "    prediction = np.log(f0 / (1 - f0)) + lr * left_output\n",
    "else:\n",
    "    prediction = np.log(f0 / (1 - f0)) + lr * right_output\n",
    "pred_prob = 1 / (1 + np.exp(-prediction))\n",
    "print(f\"Prediction for x = 25: {np.array([pred_prob]).astype(bool)[0]}\")"
   ],
   "id": "80f0089d560a1199",
   "outputs": [],
   "execution_count": null
  }
 ],
 "metadata": {
  "kernelspec": {
   "display_name": "Python 3",
   "language": "python",
   "name": "python3"
  },
  "language_info": {
   "codemirror_mode": {
    "name": "ipython",
    "version": 2
   },
   "file_extension": ".py",
   "mimetype": "text/x-python",
   "name": "python",
   "nbconvert_exporter": "python",
   "pygments_lexer": "ipython2",
   "version": "2.7.6"
  }
 },
 "nbformat": 4,
 "nbformat_minor": 5
}
