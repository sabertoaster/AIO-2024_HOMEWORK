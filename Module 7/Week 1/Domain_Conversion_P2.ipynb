{
 "cells": [
  {
   "cell_type": "markdown",
   "metadata": {
    "id": "jqzvGPAAd9Hl"
   },
   "source": [
    "## Download Data"
   ]
  },
  {
   "cell_type": "code",
   "execution_count": null,
   "metadata": {
    "id": "IvLth2vNeA4M"
   },
   "outputs": [],
   "source": [
    "# Khoa_LHR_image.zip\n",
    "!gdown --id 1bsWkNmmYvBrgE1c58SGJFcCjQv3SUyH3\n",
    "\n"
   ]
  },
  {
   "cell_type": "code",
   "execution_count": null,
   "metadata": {
    "id": "MM9jNZ7aSAQH"
   },
   "outputs": [],
   "source": [
    "!pip install torcheval\n"
   ]
  },
  {
   "cell_type": "code",
   "source": [
    "!unzip /content/Khoa_LHR_image.zip"
   ],
   "metadata": {
    "id": "hq4BBipCWrN2"
   },
   "execution_count": null,
   "outputs": []
  },
  {
   "cell_type": "code",
   "execution_count": null,
   "metadata": {
    "id": "tw2BTZNSeR2f"
   },
   "outputs": [],
   "source": [
    "import torch\n",
    "from torch import nn\n",
    "from torch.utils.data import Dataset, DataLoader\n",
    "from torch import optim\n",
    "from PIL import Image\n",
    "from torchvision import transforms\n",
    "import os\n",
    "import matplotlib.pyplot as plt\n",
    "import numpy as np\n",
    "from torcheval.metrics.functional import peak_signal_noise_ratio\n",
    "\n",
    "device = torch.device('cuda:0' if torch.cuda.is_available() else 'cpu')\n",
    "torch.manual_seed(66)\n"
   ]
  },
  {
   "cell_type": "markdown",
   "metadata": {
    "id": "23Yv2Uf5eiQ_"
   },
   "source": [
    "## Problem 2: Super Resolution with UNET"
   ]
  },
  {
   "cell_type": "code",
   "execution_count": null,
   "metadata": {
    "id": "q6cF0zP7SAQK"
   },
   "outputs": [],
   "source": [
    "LHR_TRAIN_DATA_PATH = '/content/Khoa_LHR_image/train'\n",
    "LHR_VAL_DATA_PATH = '/content/Khoa_LHR_image/val'\n",
    "BATCH_SIZE = 8\n",
    "LOW_IMG_HEIGHT = 64\n",
    "LOW_IMG_WIDTH = 64"
   ]
  },
  {
   "cell_type": "markdown",
   "metadata": {
    "id": "0kYRgzbsSAQK"
   },
   "source": [
    "### Unet for Super Resolution Task"
   ]
  },
  {
   "cell_type": "markdown",
   "metadata": {
    "id": "qPGe38X-SAQL"
   },
   "source": [
    "#### No skip connection"
   ]
  },
  {
   "cell_type": "code",
   "execution_count": null,
   "metadata": {
    "id": "z8h2tshQFiNT"
   },
   "outputs": [],
   "source": [
    "class FirstFeatureNoSkip(nn.Module):\n",
    "    def __init__(self, in_channels, out_channels):\n",
    "        super(FirstFeatureNoSkip, self).__init__()\n",
    "        self.conv = nn.Sequential(\n",
    "            nn.Conv2d(in_channels, out_channels, 1, 1, 0, bias=False),\n",
    "            nn.LeakyReLU()\n",
    "        )\n",
    "\n",
    "    def forward(self, x):\n",
    "        return self.conv(x)\n",
    "\n",
    "\n",
    "class ConvBlockNoSkip(nn.Module):\n",
    "    def __init__(self, in_channels, out_channels):\n",
    "        super(ConvBlockNoSkip, self).__init__()\n",
    "        self.conv = nn.Sequential(\n",
    "            nn.Conv2d(in_channels, out_channels, 3, 1, 1, bias=False),\n",
    "            nn.BatchNorm2d(out_channels),\n",
    "            nn.LeakyReLU(inplace=True),\n",
    "            nn.Conv2d(out_channels, out_channels, 3, 1, 1, bias=False),\n",
    "            nn.BatchNorm2d(out_channels),\n",
    "            nn.LeakyReLU(inplace=True),\n",
    "        )\n",
    "\n",
    "    def forward(self, x):\n",
    "        return self.conv(x)\n",
    "\n",
    "\n",
    "class EncoderNoSkip(nn.Module):\n",
    "    def __init__(self, in_channels, out_channels) -> None:\n",
    "        super(EncoderNoSkip, self).__init__()\n",
    "        self.encoder = nn.Sequential(\n",
    "            nn.MaxPool2d(2),\n",
    "            ConvBlockNoSkip(in_channels, out_channels)\n",
    "        )\n",
    "\n",
    "    def forward(self, x):\n",
    "        x = self.encoder(x)\n",
    "        return x\n",
    "\n",
    "\n",
    "class DecoderNoSkip(nn.Module):\n",
    "    def __init__(self, in_channels, out_channels):\n",
    "        super(DecoderNoSkip, self).__init__()\n",
    "        self.conv = nn.Sequential(\n",
    "            nn.UpsamplingBilinear2d(scale_factor=2),\n",
    "            nn.Conv2d(in_channels, out_channels * 2, 1, 1, 0, bias=False),\n",
    "            nn.BatchNorm2d(out_channels * 2),\n",
    "            nn.LeakyReLU(),\n",
    "        )\n",
    "        self.conv_block = ConvBlockNoSkip(out_channels * 2, out_channels)\n",
    "\n",
    "    def forward(self, x):\n",
    "        x = self.conv(x)\n",
    "        x = self.conv_block(x)\n",
    "        return x\n",
    "\n",
    "\n",
    "class FinalOutputNoSkip(nn.Module):\n",
    "    def __init__(self, in_channels, out_channels):\n",
    "        super(FinalOutputNoSkip, self).__init__()\n",
    "        self.conv = nn.Sequential(\n",
    "            nn.Conv2d(in_channels, out_channels, 1, 1, 0, bias=False),\n",
    "            nn.Tanh()\n",
    "        )\n",
    "\n",
    "    def forward(self, x):\n",
    "        return self.conv(x)\n",
    "\n",
    "\n",
    "class SR_Unet_NoSkip(nn.Module):\n",
    "    def __init__(\n",
    "            self, n_channels=3, n_classes=3\n",
    "    ):\n",
    "        super(SR_Unet_NoSkip, self).__init__()\n",
    "\n",
    "        self.n_channels = n_channels\n",
    "        self.n_classes = n_classes\n",
    "        self.resize_fnc = transforms.Resize((LOW_IMG_HEIGHT * 4, LOW_IMG_HEIGHT * 4),\n",
    "                                            antialias=True)\n",
    "        self.in_conv1 = FirstFeatureNoSkip(n_channels, 64)\n",
    "        self.in_conv2 = ConvBlockNoSkip(64, 64)\n",
    "\n",
    "        self.enc_1 = EncoderNoSkip(64, 128)\n",
    "        self.enc_2 = EncoderNoSkip(128, 256)\n",
    "        self.enc_3 = EncoderNoSkip(256, 512)\n",
    "        self.enc_4 = EncoderNoSkip(512, 1024)\n",
    "\n",
    "        self.dec_1 = DecoderNoSkip(1024, 512)\n",
    "        self.dec_2 = DecoderNoSkip(512, 256)\n",
    "        self.dec_3 = DecoderNoSkip(256, 128)\n",
    "        self.dec_4 = DecoderNoSkip(128, 64)\n",
    "\n",
    "        self.out_conv = FinalOutputNoSkip(64, n_classes)\n",
    "\n",
    "    def forward(self, x):\n",
    "        x = self.resize_fnc(x)\n",
    "        x = self.in_conv1(x)\n",
    "        x = self.in_conv2(x)\n",
    "\n",
    "        x = self.enc_1(x)\n",
    "        x = self.enc_2(x)\n",
    "        x = self.enc_3(x)\n",
    "        x = self.enc_4(x)\n",
    "\n",
    "        x = self.dec_1(x)\n",
    "        x = self.dec_2(x)\n",
    "        x = self.dec_3(x)\n",
    "        x = self.dec_4(x)\n",
    "\n",
    "        x = self.out_conv(x)\n",
    "        return x"
   ]
  },
  {
   "cell_type": "code",
   "execution_count": null,
   "metadata": {
    "id": "JM43HRieSAQN"
   },
   "outputs": [],
   "source": [
    "unet_model = SR_Unet_NoSkip().to(device)\n",
    "img = torch.ones(2, 3, 64, 64).to(device)\n",
    "unet_model(img).shape"
   ]
  },
  {
   "cell_type": "markdown",
   "metadata": {
    "id": "hQbbOFzWSAQO"
   },
   "source": [
    "#### Skip connection"
   ]
  },
  {
   "cell_type": "code",
   "execution_count": null,
   "metadata": {
    "id": "64uWhbW0Ek0n"
   },
   "outputs": [],
   "source": [
    "class FirstFeature(nn.Module):\n",
    "    def __init__(self, in_channels, out_channels):\n",
    "        super(FirstFeature, self).__init__()\n",
    "        self.conv = nn.Sequential(\n",
    "            nn.Conv2d(in_channels, out_channels, 1, 1, 0, bias=False),\n",
    "            nn.LeakyReLU()\n",
    "        )\n",
    "\n",
    "    def forward(self, x):\n",
    "        return self.conv(x)\n",
    "\n",
    "\n",
    "class ConvBlock(nn.Module):\n",
    "    def __init__(self, in_channels, out_channels):\n",
    "        super(ConvBlock, self).__init__()\n",
    "        self.conv = nn.Sequential(\n",
    "            nn.Conv2d(in_channels, out_channels, 3, 1, 1, bias=False),\n",
    "            nn.BatchNorm2d(out_channels),\n",
    "            nn.LeakyReLU(inplace=True),\n",
    "            nn.Conv2d(out_channels, out_channels, 3, 1, 1, bias=False),\n",
    "            nn.BatchNorm2d(out_channels),\n",
    "            nn.LeakyReLU(inplace=True),\n",
    "        )\n",
    "\n",
    "    def forward(self, x):\n",
    "        return self.conv(x)\n",
    "\n",
    "\n",
    "class Encoder(nn.Module):\n",
    "    def __init__(self, in_channels, out_channels) -> None:\n",
    "        super().__init__()\n",
    "        self.encoder = nn.Sequential(\n",
    "            nn.MaxPool2d(2),\n",
    "            ConvBlock(in_channels, out_channels)\n",
    "        )\n",
    "\n",
    "    def forward(self, x):\n",
    "        x = self.encoder(x)\n",
    "        return x\n",
    "\n",
    "\n",
    "class Decoder(nn.Module):\n",
    "    def __init__(self, in_channels, out_channels):\n",
    "        super(Decoder, self).__init__()\n",
    "        self.conv = nn.Sequential(\n",
    "            nn.UpsamplingBilinear2d(scale_factor=2),\n",
    "            nn.Conv2d(in_channels, out_channels, 1, 1, 0, bias=False),\n",
    "            nn.BatchNorm2d(out_channels),\n",
    "            nn.LeakyReLU(),\n",
    "        )\n",
    "        self.conv_block = ConvBlock(in_channels, out_channels)\n",
    "\n",
    "    def forward(self, x, skip):\n",
    "        x = self.conv(x)\n",
    "        x = torch.concat([x, skip], dim=1)\n",
    "        x = self.conv_block(x)\n",
    "        return x\n",
    "\n",
    "\n",
    "class FinalOutput(nn.Module):\n",
    "    def __init__(self, in_channels, out_channels):\n",
    "        super(FinalOutput, self).__init__()\n",
    "        self.conv = nn.Sequential(\n",
    "            nn.Conv2d(in_channels, out_channels, 1, 1, 0, bias=False),\n",
    "            nn.Tanh()\n",
    "        )\n",
    "\n",
    "    def forward(self, x):\n",
    "        return self.conv(x)\n",
    "\n",
    "\n",
    "class SR_Unet(nn.Module):\n",
    "    def __init__(\n",
    "            self, n_channels=3, n_classes=3\n",
    "    ):\n",
    "        super(SR_Unet, self).__init__()\n",
    "\n",
    "        self.n_channels = n_channels\n",
    "        self.n_classes = n_classes\n",
    "        self.resize_fnc = transforms.Resize((LOW_IMG_HEIGHT * 4, LOW_IMG_HEIGHT * 4),\n",
    "                                            antialias=True)\n",
    "        self.in_conv1 = FirstFeature(n_channels, 64)\n",
    "        self.in_conv2 = ConvBlock(64, 64)\n",
    "\n",
    "        self.enc_1 = Encoder(64, 128)\n",
    "        self.enc_2 = Encoder(128, 256)\n",
    "        self.enc_3 = Encoder(256, 512)\n",
    "        self.enc_4 = Encoder(512, 1024)\n",
    "\n",
    "        self.dec_1 = Decoder(1024, 512)\n",
    "        self.dec_2 = Decoder(512, 256)\n",
    "        self.dec_3 = Decoder(256, 128)\n",
    "        self.dec_4 = Decoder(128, 64)\n",
    "\n",
    "        self.out_conv = FinalOutput(64, n_classes)\n",
    "\n",
    "    def forward(self, x):\n",
    "        x = self.resize_fnc(x)\n",
    "        x = self.in_conv1(x)\n",
    "        x1 = self.in_conv2(x)\n",
    "\n",
    "        x2 = self.enc_1(x1)\n",
    "        x3 = self.enc_2(x2)\n",
    "        x4 = self.enc_3(x3)\n",
    "        x5 = self.enc_4(x4)\n",
    "\n",
    "        x = self.dec_1(x5, x4)\n",
    "        x = self.dec_2(x, x3)\n",
    "        x = self.dec_3(x, x2)\n",
    "        x = self.dec_4(x, x1)\n",
    "\n",
    "        x = self.out_conv(x)\n",
    "        return x"
   ]
  },
  {
   "cell_type": "code",
   "execution_count": null,
   "metadata": {
    "id": "4d7_3UEwFLcq"
   },
   "outputs": [],
   "source": [
    "unet_model = SR_Unet().to(device)\n",
    "img = torch.ones(2, 3, 64, 64).to(device)\n",
    "unet_model(img).shape"
   ]
  },
  {
   "cell_type": "markdown",
   "metadata": {
    "id": "VFnDdDGoenxR"
   },
   "source": [
    "### Prepare Super Resolution Dataset"
   ]
  },
  {
   "cell_type": "markdown",
   "metadata": {
    "id": "BKTgatPZeo8B"
   },
   "source": [
    "#### Split Tran Validation data"
   ]
  },
  {
   "cell_type": "code",
   "execution_count": null,
   "metadata": {
    "id": "wHw2ARMBU7gL"
   },
   "outputs": [],
   "source": [
    "class ImageDataset(Dataset):\n",
    "    ############################## Your Code Here###########################\n",
    "    \"\"\"\n",
    "    Các bạn dựa vào idea hướng dẫn trong file mô tả bài hãy xây dựng một hàm load data\n",
    "    cho bài toán Super Resolution (input_image=64x64 và target_image=256x256 ảnh màu).\n",
    "    Các bạn có thể tự do xây dựng theo từng cá nhân, có thể add thêm hoặc xoá các method không\n",
    "    cần thiết. Hoặc các bạn có thể tham khảo code hướng dẫn trong file mô tả bài tập\n",
    "    \"\"\"\n",
    "\n",
    "    def __init__(self, img_dir, is_train=True):\n",
    "        self.resize = transforms.Resize((LOW_IMG_WIDTH, LOW_IMG_HEIGHT),\n",
    "                                        antialias=True)\n",
    "        self.is_train = is_train\n",
    "        self.img_dir = img_dir\n",
    "        self.images = os.listdir(img_dir)\n",
    "\n",
    "    def __len__(self):\n",
    "        return len(self.images)\n",
    "\n",
    "    def normalize(self, input_image, target_image):\n",
    "        input_image = input_image * 2 - 1\n",
    "        target_image = target_image * 2 - 1\n",
    "\n",
    "    def random_jitter(self, input_image, target_image):\n",
    "        if torch.rand([]) < 0.5:\n",
    "            input_image = transforms.functional.hflip(input_image)\n",
    "            target_image = transforms.functional.hflip(target_image)\n",
    "\n",
    "        return input_image, target_image\n",
    "\n",
    "    def __getitem__(self, idx):\n",
    "        img_path = os.path.join(self.img_dir, self.images[idx])\n",
    "        image = np.array(Image.open(img_path).convert(\"RGB\"))\n",
    "        image = transforms.functional.to_tensor(image)\n",
    "        input_image = self.resize(image).type(torch.float32)\n",
    "        target_image = image.type(torch.float32)\n",
    "        input_image, target_image = self.normalize(input_image, target_image)\n",
    "        if self.is_train:\n",
    "            input_image, target_image = self.random_jitter(input_image,\n",
    "                                                           target_image)\n",
    "        return input_image, target_image\n",
    "\n",
    "#########################################################################\n",
    "\n"
   ]
  },
  {
   "cell_type": "code",
   "execution_count": null,
   "metadata": {
    "id": "XaS8EFsQSAQQ"
   },
   "outputs": [],
   "source": [
    "train_dataset = ImageDataset(LHR_TRAIN_DATA_PATH, is_train=True)\n",
    "train_loader = DataLoader(train_dataset, batch_size=BATCH_SIZE, shuffle=True)\n",
    "\n",
    "test_dataset = ImageDataset(LHR_VAL_DATA_PATH, is_train=False)\n",
    "test_loader = DataLoader(test_dataset, batch_size=BATCH_SIZE, shuffle=False)"
   ]
  },
  {
   "cell_type": "code",
   "execution_count": null,
   "metadata": {
    "id": "GgeBzz8SSAQR"
   },
   "outputs": [],
   "source": [
    "in_batch, tar_batch = next(iter(train_loader))\n",
    "in_batch = (in_batch + 1) / 2\n",
    "tar_batch = (tar_batch + 1) / 2\n",
    "\n",
    "plt.figure(figsize=(10, 10))\n",
    "ax = plt.subplot(2, 2, 1)\n",
    "plt.imshow(np.squeeze(in_batch[0].numpy().transpose((1, 2, 0))))\n",
    "plt.title(\"Input\")\n",
    "ax = plt.subplot(2, 2, 3)\n",
    "plt.imshow(np.squeeze(tar_batch[0].numpy().transpose((1, 2, 0))))\n",
    "plt.title(\"Target\")\n",
    "ax = plt.subplot(2, 2, 2)\n",
    "plt.imshow(np.squeeze(in_batch[1].numpy().transpose((1, 2, 0))))\n",
    "plt.title(\"Input\")\n",
    "ax = plt.subplot(2, 2, 4)\n",
    "plt.imshow(np.squeeze(tar_batch[1].numpy().transpose((1, 2, 0))))\n",
    "plt.title(\"Target\")\n",
    "\n"
   ]
  },
  {
   "cell_type": "markdown",
   "metadata": {
    "id": "rm4gOoYwe5T2"
   },
   "source": [
    "### Train"
   ]
  },
  {
   "cell_type": "code",
   "execution_count": null,
   "metadata": {
    "id": "a7Cd1WiBcNh6"
   },
   "outputs": [],
   "source": [
    "def generate_images(model, inputs, labels):\n",
    "    model.eval()\n",
    "    with torch.no_grad():\n",
    "        inputs, labels = inputs.to(device), labels.to(device)\n",
    "        predictions = model(inputs)\n",
    "    inputs, labels, predictions = inputs.cpu().numpy(), labels.cpu().numpy(), predictions.cpu().numpy()\n",
    "    plt.figure(figsize=(15, 20))\n",
    "\n",
    "    display_list = [inputs[-1].transpose((1, 2, 0)), labels[-1].transpose((1, 2, 0)),\n",
    "                    predictions[-1].transpose((1, 2, 0))]\n",
    "    title = ['Input', 'Real', 'Predicted']\n",
    "\n",
    "    for i in range(3):\n",
    "        plt.subplot(1, 3, i + 1)\n",
    "        plt.title(title[i])\n",
    "        plt.imshow((display_list[i] + 1) / 2)\n",
    "        plt.axis('off')\n",
    "    plt.show()"
   ]
  },
  {
   "cell_type": "code",
   "execution_count": null,
   "metadata": {
    "id": "_wzNxZluYrgT"
   },
   "outputs": [],
   "source": [
    "import time\n",
    "\n",
    "\n",
    "def train_epoch(model, optimizer, criterion, train_dataloader, device, epoch=0,\n",
    "                log_interval=50):\n",
    "    model.train()\n",
    "    total_psnr, total_count = 0, 0\n",
    "    losses = []\n",
    "    start_time = time.time()\n",
    "\n",
    "    for idx, (inputs, labels) in enumerate(train_dataloader):\n",
    "        inputs = inputs.to(device)\n",
    "        labels = labels.to(device)\n",
    "\n",
    "        optimizer.zero_grad()\n",
    "\n",
    "        predictions = model(inputs)\n",
    "\n",
    "        # compute loss\n",
    "        loss = criterion(predictions, labels)\n",
    "        losses.append(loss.item())\n",
    "\n",
    "        # backward\n",
    "        loss.backward()\n",
    "        optimizer.step()\n",
    "\n",
    "        total_psnr += peak_signal_noise_ratio(predictions, labels)\n",
    "        total_count += 1\n",
    "        if idx % log_interval == 0 and idx > 0:\n",
    "            elapsed = time.time() - start_time\n",
    "            print(\n",
    "                \"| epoch {:3d} | {:5d}/{:5d} batches \"\n",
    "                \"| psnr {:8.3f}\".format(\n",
    "                    epoch, idx, len(train_dataloader), total_psnr / total_count\n",
    "                )\n",
    "            )\n",
    "            total_psnr, total_count = 0, 0\n",
    "            start_time = time.time()\n",
    "\n",
    "    epoch_psnr = total_psnr / total_count\n",
    "    epoch_loss = sum(losses) / len(losses)\n",
    "    return epoch_psnr, epoch_loss"
   ]
  },
  {
   "cell_type": "code",
   "execution_count": null,
   "metadata": {
    "id": "moYj09xCZnOg"
   },
   "outputs": [],
   "source": [
    "def evaluate_epoch(model, criterion, valid_dataloader, device):\n",
    "    model.eval()\n",
    "    total_psnr, total_count = 0, 0\n",
    "    losses = []\n",
    "\n",
    "    with torch.no_grad():\n",
    "        for idx, (inputs, labels) in enumerate(valid_dataloader):\n",
    "            inputs = inputs.to(device)\n",
    "            labels = labels.to(device)\n",
    "\n",
    "            predictions = model(inputs)\n",
    "\n",
    "            loss = criterion(predictions, labels)\n",
    "            losses.append(loss.item())\n",
    "\n",
    "            total_psnr += peak_signal_noise_ratio(predictions, labels)\n",
    "            total_count += 1\n",
    "\n",
    "    epoch_psnr = total_psnr / total_count\n",
    "    epoch_loss = sum(losses) / len(losses)\n",
    "    return epoch_psnr, epoch_loss"
   ]
  },
  {
   "cell_type": "code",
   "execution_count": null,
   "metadata": {
    "id": "shAWlaiabMtj"
   },
   "outputs": [],
   "source": [
    "def train(model, model_name, save_model, optimizer, criterion, train_dataloader, valid_dataloader, num_epochs, device):\n",
    "    train_psnrs, train_losses = [], []\n",
    "    eval_psnrs, eval_losses = [], []\n",
    "    best_psnr_eval = -1000\n",
    "    times = []\n",
    "    for epoch in range(1, num_epochs + 1):\n",
    "        epoch_start_time = time.time()\n",
    "        # Training\n",
    "        train_psnr, train_loss = train_epoch(model, optimizer, criterion, train_dataloader, device, epoch)\n",
    "        train_psnrs.append(train_psnr.cpu())\n",
    "        train_losses.append(train_loss)\n",
    "\n",
    "        # Evaluation\n",
    "        eval_psnr, eval_loss = evaluate_epoch(model, criterion, valid_dataloader, device)\n",
    "        eval_psnrs.append(eval_psnr.cpu())\n",
    "        eval_losses.append(eval_loss)\n",
    "\n",
    "        # Save best model\n",
    "        if best_psnr_eval < eval_psnr:\n",
    "            torch.save(model.state_dict(), save_model + f'/{model_name}.pt')\n",
    "            inputs_t, targets_t = next(iter(valid_dataloader))\n",
    "            generate_images(model, inputs_t, targets_t)\n",
    "            best_psnr_eval = eval_psnr\n",
    "        times.append(time.time() - epoch_start_time)\n",
    "        # Print loss, psnr end epoch\n",
    "        print(\"-\" * 59)\n",
    "        print(\n",
    "            \"| End of epoch {:3d} | Time: {:5.2f}s | Train psnr {:8.3f} | Train Loss {:8.3f} \"\n",
    "            \"| Valid psnr {:8.3f} | Valid Loss {:8.3f} \".format(\n",
    "                epoch, time.time() - epoch_start_time, train_psnr, train_loss, eval_psnr, eval_loss\n",
    "            )\n",
    "        )\n",
    "        print(\"-\" * 59)\n",
    "\n",
    "    # Load best model\n",
    "    model.load_state_dict(torch.load(save_model + f'/{model_name}.pt'))\n",
    "    model.eval()\n",
    "    metrics = {\n",
    "        'train_psnr': train_psnrs,\n",
    "        'train_loss': train_losses,\n",
    "        'valid_psnr': eval_psnrs,\n",
    "        'valid_loss': eval_losses,\n",
    "        'time': times\n",
    "    }\n",
    "    return model, metrics"
   ]
  },
  {
   "cell_type": "code",
   "execution_count": null,
   "metadata": {
    "id": "kWRxuXTRddS_"
   },
   "outputs": [],
   "source": [
    "import matplotlib.pyplot as plt\n",
    "\n",
    "\n",
    "def plot_result(num_epochs, train_psnrs, eval_psnrs, train_losses, eval_losses):\n",
    "    epochs = list(range(num_epochs))\n",
    "    fig, axs = plt.subplots(nrows=1, ncols=2, figsize=(12, 6))\n",
    "    axs[0].plot(epochs, train_psnrs, label=\"Training\")\n",
    "    axs[0].plot(epochs, eval_psnrs, label=\"Evaluation\")\n",
    "    axs[1].plot(epochs, train_losses, label=\"Training\")\n",
    "    axs[1].plot(epochs, eval_losses, label=\"Evaluation\")\n",
    "    axs[0].set_xlabel(\"Epochs\")\n",
    "    axs[1].set_xlabel(\"Epochs\")\n",
    "    axs[0].set_ylabel(\"PSNR\")\n",
    "    axs[1].set_ylabel(\"Loss\")\n",
    "    plt.legend()"
   ]
  },
  {
   "cell_type": "code",
   "execution_count": null,
   "metadata": {
    "id": "UKPthQQydmii"
   },
   "outputs": [],
   "source": [
    "import matplotlib.pyplot as plt\n",
    "\n",
    "\n",
    "def predict_and_display(model, test_dataloader, device):\n",
    "    model.eval()\n",
    "\n",
    "    with torch.no_grad():\n",
    "        for idx, (inputs, labels) in enumerate(test_dataloader):\n",
    "            if idx >= 10:\n",
    "                break\n",
    "            inputs = inputs.to(device)\n",
    "            predictions = model(inputs)\n",
    "            generate_images(model, inputs, labels)\n",
    "            plt.show()\n",
    "\n",
    "\n"
   ]
  },
  {
   "cell_type": "markdown",
   "metadata": {
    "id": "c71kq7qRdnp6"
   },
   "source": [
    "#### Unet No Skip Connection\n"
   ]
  },
  {
   "cell_type": "code",
   "execution_count": null,
   "metadata": {
    "id": "tESKS-sEfHNU"
   },
   "outputs": [],
   "source": [
    "import torch.optim as optim\n",
    "\n",
    "device = torch.device('cuda' if torch.cuda.is_available() else 'cpu')\n",
    "SR_unet_model_noskip = SR_Unet_NoSkip().to(device)\n",
    "SR_unet_model_noskip.to(device)\n",
    "\n",
    "criterion = nn.L1Loss()\n",
    "\n",
    "optimizer = optim.Adam(SR_unet_model_noskip.parameters(), lr=1e-4, betas=[0.5, 0.999])\n",
    "\n",
    "save_model = './UNET'\n",
    "os.makedirs(save_model, exist_ok=True)\n",
    "\n",
    "EPOCHS = 100\n",
    "SR_unet_model_noskip, metrics = train(\n",
    "    SR_unet_model_noskip, 'SR_unet_model_noskip', save_model, optimizer, criterion, train_loader, test_loader, EPOCHS,\n",
    "    device\n",
    ")"
   ]
  },
  {
   "cell_type": "code",
   "execution_count": null,
   "metadata": {
    "id": "9qO8al33f6ao"
   },
   "outputs": [],
   "source": [
    "plot_result(\n",
    "    EPOCHS,\n",
    "    metrics[\"train_psnr\"],\n",
    "    metrics[\"valid_psnr\"],\n",
    "    metrics[\"train_loss\"],\n",
    "    metrics[\"valid_loss\"]\n",
    ")"
   ]
  },
  {
   "cell_type": "code",
   "execution_count": null,
   "metadata": {
    "id": "VS4ftR5zf_mm"
   },
   "outputs": [],
   "source": [
    "test_psnr, test_loss = evaluate_epoch(SR_unet_model_noskip, criterion, test_loader, device)\n",
    "test_psnr, test_loss"
   ]
  },
  {
   "cell_type": "code",
   "execution_count": null,
   "metadata": {
    "id": "jlfJOTW5gPsF"
   },
   "outputs": [],
   "source": [
    "predict_and_display(SR_unet_model_noskip, train_loader, device)"
   ]
  },
  {
   "cell_type": "code",
   "execution_count": null,
   "metadata": {
    "id": "96vfJ_CpgNwq"
   },
   "outputs": [],
   "source": [
    "predict_and_display(SR_unet_model_noskip, test_loader, device)"
   ]
  },
  {
   "cell_type": "code",
   "execution_count": null,
   "metadata": {
    "id": "MHFHZUApxmiL"
   },
   "outputs": [],
   "source": []
  },
  {
   "cell_type": "markdown",
   "metadata": {
    "id": "TpqI7nPWe7S4"
   },
   "source": [
    "#### Unet"
   ]
  },
  {
   "cell_type": "code",
   "execution_count": null,
   "metadata": {
    "id": "BU5lnPTmxmiN"
   },
   "outputs": [],
   "source": [
    "import torch.optim as optim\n",
    "\n",
    "device = torch.device('cuda' if torch.cuda.is_available() else 'cpu')\n",
    "SR_unet_model = SR_Unet().to(device)\n",
    "SR_unet_model.to(device)\n",
    "\n",
    "criterion = nn.L1Loss()\n",
    "\n",
    "optimizer = optim.Adam(SR_unet_model.parameters(), lr=1e-4, betas=[0.5, 0.999])\n",
    "\n",
    "save_model = './UNET'\n",
    "os.makedirs(save_model, exist_ok=True)\n",
    "\n",
    "EPOCHS = 100\n",
    "SR_unet_model, metrics = train(\n",
    "    SR_unet_model, 'SR_unet_model', save_model, optimizer, criterion, train_loader, test_loader, EPOCHS, device\n",
    ")"
   ]
  },
  {
   "cell_type": "code",
   "execution_count": null,
   "metadata": {
    "id": "UT2o33CbxmiP"
   },
   "outputs": [],
   "source": [
    "plot_result(\n",
    "    EPOCHS,\n",
    "    metrics[\"train_psnr\"],\n",
    "    metrics[\"valid_psnr\"],\n",
    "    metrics[\"train_loss\"],\n",
    "    metrics[\"valid_loss\"]\n",
    ")"
   ]
  },
  {
   "cell_type": "code",
   "execution_count": null,
   "metadata": {
    "id": "-R_uqEC5xmiR"
   },
   "outputs": [],
   "source": [
    "test_psnr, test_loss = evaluate_epoch(SR_unet_model, criterion, test_loader, device)\n",
    "test_psnr, test_loss"
   ]
  },
  {
   "cell_type": "code",
   "execution_count": null,
   "metadata": {
    "id": "EkGmtCFVxmiS"
   },
   "outputs": [],
   "source": [
    "predict_and_display(SR_unet_model, train_loader, device)"
   ]
  },
  {
   "cell_type": "code",
   "execution_count": null,
   "metadata": {
    "id": "TfvDknMexmiS"
   },
   "outputs": [],
   "source": [
    "predict_and_display(SR_unet_model, test_loader, device)"
   ]
  },
  {
   "cell_type": "code",
   "execution_count": null,
   "metadata": {
    "id": "rNliwTxlSAQU"
   },
   "outputs": [],
   "source": []
  }
 ],
 "metadata": {
  "colab": {
   "provenance": [],
   "toc_visible": true,
   "gpuType": "T4"
  },
  "kernelspec": {
   "display_name": "Python 3",
   "name": "python3"
  },
  "language_info": {
   "codemirror_mode": {
    "name": "ipython",
    "version": 3
   },
   "file_extension": ".py",
   "mimetype": "text/x-python",
   "name": "python",
   "nbconvert_exporter": "python",
   "pygments_lexer": "ipython3",
   "version": "3.11.5"
  },
  "accelerator": "GPU"
 },
 "nbformat": 4,
 "nbformat_minor": 0
}
